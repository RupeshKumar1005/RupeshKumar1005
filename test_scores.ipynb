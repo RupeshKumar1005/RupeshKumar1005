{
 "cells": [
  {
   "cell_type": "markdown",
   "id": "9ad81a2f-3221-41c8-a70e-0fdd30acbad7",
   "metadata": {},
   "source": []
  },
  {
   "cell_type": "code",
   "execution_count": 2,
   "id": "2cf27a5a-bab1-4635-9a95-36fbe293a079",
   "metadata": {},
   "outputs": [],
   "source": [
    "import pandas as pd\n",
    "import numpy as np \n",
    "import matplotlib.pyplot as plt\n",
    "import seaborn as sns\n",
    "import sklearn\n",
    "import scipy\n",
    "from scipy import stats\n"
   ]
  },
  {
   "cell_type": "code",
   "execution_count": 3,
   "id": "f401ff6c-c6aa-4445-a9de-ed595abc8ee5",
   "metadata": {},
   "outputs": [
    {
     "data": {
      "text/html": [
       "<div>\n",
       "<style scoped>\n",
       "    .dataframe tbody tr th:only-of-type {\n",
       "        vertical-align: middle;\n",
       "    }\n",
       "\n",
       "    .dataframe tbody tr th {\n",
       "        vertical-align: top;\n",
       "    }\n",
       "\n",
       "    .dataframe thead th {\n",
       "        text-align: right;\n",
       "    }\n",
       "</style>\n",
       "<table border=\"1\" class=\"dataframe\">\n",
       "  <thead>\n",
       "    <tr style=\"text-align: right;\">\n",
       "      <th></th>\n",
       "      <th>school</th>\n",
       "      <th>school_setting</th>\n",
       "      <th>school_type</th>\n",
       "      <th>classroom</th>\n",
       "      <th>teaching_method</th>\n",
       "      <th>n_student</th>\n",
       "      <th>student_id</th>\n",
       "      <th>gender</th>\n",
       "      <th>lunch</th>\n",
       "      <th>pretest</th>\n",
       "      <th>posttest</th>\n",
       "    </tr>\n",
       "  </thead>\n",
       "  <tbody>\n",
       "    <tr>\n",
       "      <th>0</th>\n",
       "      <td>ANKYI</td>\n",
       "      <td>Urban</td>\n",
       "      <td>Non-public</td>\n",
       "      <td>6OL</td>\n",
       "      <td>Standard</td>\n",
       "      <td>20.0</td>\n",
       "      <td>2FHT3</td>\n",
       "      <td>Female</td>\n",
       "      <td>Does not qualify</td>\n",
       "      <td>62.0</td>\n",
       "      <td>72.0</td>\n",
       "    </tr>\n",
       "    <tr>\n",
       "      <th>1</th>\n",
       "      <td>ANKYI</td>\n",
       "      <td>Urban</td>\n",
       "      <td>Non-public</td>\n",
       "      <td>6OL</td>\n",
       "      <td>Standard</td>\n",
       "      <td>20.0</td>\n",
       "      <td>3JIVH</td>\n",
       "      <td>Female</td>\n",
       "      <td>Does not qualify</td>\n",
       "      <td>66.0</td>\n",
       "      <td>79.0</td>\n",
       "    </tr>\n",
       "    <tr>\n",
       "      <th>2</th>\n",
       "      <td>ANKYI</td>\n",
       "      <td>Urban</td>\n",
       "      <td>Non-public</td>\n",
       "      <td>6OL</td>\n",
       "      <td>Standard</td>\n",
       "      <td>20.0</td>\n",
       "      <td>3XOWE</td>\n",
       "      <td>Male</td>\n",
       "      <td>Does not qualify</td>\n",
       "      <td>64.0</td>\n",
       "      <td>76.0</td>\n",
       "    </tr>\n",
       "    <tr>\n",
       "      <th>3</th>\n",
       "      <td>ANKYI</td>\n",
       "      <td>Urban</td>\n",
       "      <td>Non-public</td>\n",
       "      <td>6OL</td>\n",
       "      <td>Standard</td>\n",
       "      <td>20.0</td>\n",
       "      <td>556O0</td>\n",
       "      <td>Female</td>\n",
       "      <td>Does not qualify</td>\n",
       "      <td>61.0</td>\n",
       "      <td>77.0</td>\n",
       "    </tr>\n",
       "    <tr>\n",
       "      <th>4</th>\n",
       "      <td>ANKYI</td>\n",
       "      <td>Urban</td>\n",
       "      <td>Non-public</td>\n",
       "      <td>6OL</td>\n",
       "      <td>Standard</td>\n",
       "      <td>20.0</td>\n",
       "      <td>74LOE</td>\n",
       "      <td>Male</td>\n",
       "      <td>Does not qualify</td>\n",
       "      <td>64.0</td>\n",
       "      <td>76.0</td>\n",
       "    </tr>\n",
       "    <tr>\n",
       "      <th>...</th>\n",
       "      <td>...</td>\n",
       "      <td>...</td>\n",
       "      <td>...</td>\n",
       "      <td>...</td>\n",
       "      <td>...</td>\n",
       "      <td>...</td>\n",
       "      <td>...</td>\n",
       "      <td>...</td>\n",
       "      <td>...</td>\n",
       "      <td>...</td>\n",
       "      <td>...</td>\n",
       "    </tr>\n",
       "    <tr>\n",
       "      <th>2128</th>\n",
       "      <td>ZOWMK</td>\n",
       "      <td>Urban</td>\n",
       "      <td>Public</td>\n",
       "      <td>ZBH</td>\n",
       "      <td>Standard</td>\n",
       "      <td>30.0</td>\n",
       "      <td>T8LSK</td>\n",
       "      <td>Female</td>\n",
       "      <td>Does not qualify</td>\n",
       "      <td>39.0</td>\n",
       "      <td>55.0</td>\n",
       "    </tr>\n",
       "    <tr>\n",
       "      <th>2129</th>\n",
       "      <td>ZOWMK</td>\n",
       "      <td>Urban</td>\n",
       "      <td>Public</td>\n",
       "      <td>ZBH</td>\n",
       "      <td>Standard</td>\n",
       "      <td>30.0</td>\n",
       "      <td>VNP26</td>\n",
       "      <td>Female</td>\n",
       "      <td>Qualifies for reduced/free lunch</td>\n",
       "      <td>38.0</td>\n",
       "      <td>46.0</td>\n",
       "    </tr>\n",
       "    <tr>\n",
       "      <th>2130</th>\n",
       "      <td>ZOWMK</td>\n",
       "      <td>Urban</td>\n",
       "      <td>Public</td>\n",
       "      <td>ZBH</td>\n",
       "      <td>Standard</td>\n",
       "      <td>30.0</td>\n",
       "      <td>YDR1Z</td>\n",
       "      <td>Female</td>\n",
       "      <td>Qualifies for reduced/free lunch</td>\n",
       "      <td>45.0</td>\n",
       "      <td>51.0</td>\n",
       "    </tr>\n",
       "    <tr>\n",
       "      <th>2131</th>\n",
       "      <td>ZOWMK</td>\n",
       "      <td>Urban</td>\n",
       "      <td>Public</td>\n",
       "      <td>ZBH</td>\n",
       "      <td>Standard</td>\n",
       "      <td>30.0</td>\n",
       "      <td>YUEIH</td>\n",
       "      <td>Male</td>\n",
       "      <td>Qualifies for reduced/free lunch</td>\n",
       "      <td>46.0</td>\n",
       "      <td>53.0</td>\n",
       "    </tr>\n",
       "    <tr>\n",
       "      <th>2132</th>\n",
       "      <td>ZOWMK</td>\n",
       "      <td>Urban</td>\n",
       "      <td>Public</td>\n",
       "      <td>ZBH</td>\n",
       "      <td>Standard</td>\n",
       "      <td>30.0</td>\n",
       "      <td>ZVCQ8</td>\n",
       "      <td>Male</td>\n",
       "      <td>Qualifies for reduced/free lunch</td>\n",
       "      <td>41.0</td>\n",
       "      <td>48.0</td>\n",
       "    </tr>\n",
       "  </tbody>\n",
       "</table>\n",
       "<p>2133 rows × 11 columns</p>\n",
       "</div>"
      ],
      "text/plain": [
       "     school school_setting school_type classroom teaching_method  n_student  \\\n",
       "0     ANKYI          Urban  Non-public       6OL        Standard       20.0   \n",
       "1     ANKYI          Urban  Non-public       6OL        Standard       20.0   \n",
       "2     ANKYI          Urban  Non-public       6OL        Standard       20.0   \n",
       "3     ANKYI          Urban  Non-public       6OL        Standard       20.0   \n",
       "4     ANKYI          Urban  Non-public       6OL        Standard       20.0   \n",
       "...     ...            ...         ...       ...             ...        ...   \n",
       "2128  ZOWMK          Urban      Public       ZBH        Standard       30.0   \n",
       "2129  ZOWMK          Urban      Public       ZBH        Standard       30.0   \n",
       "2130  ZOWMK          Urban      Public       ZBH        Standard       30.0   \n",
       "2131  ZOWMK          Urban      Public       ZBH        Standard       30.0   \n",
       "2132  ZOWMK          Urban      Public       ZBH        Standard       30.0   \n",
       "\n",
       "     student_id  gender                             lunch  pretest  posttest  \n",
       "0         2FHT3  Female                  Does not qualify     62.0      72.0  \n",
       "1         3JIVH  Female                  Does not qualify     66.0      79.0  \n",
       "2         3XOWE    Male                  Does not qualify     64.0      76.0  \n",
       "3         556O0  Female                  Does not qualify     61.0      77.0  \n",
       "4         74LOE    Male                  Does not qualify     64.0      76.0  \n",
       "...         ...     ...                               ...      ...       ...  \n",
       "2128      T8LSK  Female                  Does not qualify     39.0      55.0  \n",
       "2129      VNP26  Female  Qualifies for reduced/free lunch     38.0      46.0  \n",
       "2130      YDR1Z  Female  Qualifies for reduced/free lunch     45.0      51.0  \n",
       "2131      YUEIH    Male  Qualifies for reduced/free lunch     46.0      53.0  \n",
       "2132      ZVCQ8    Male  Qualifies for reduced/free lunch     41.0      48.0  \n",
       "\n",
       "[2133 rows x 11 columns]"
      ]
     },
     "execution_count": 3,
     "metadata": {},
     "output_type": "execute_result"
    }
   ],
   "source": [
    "df=pd.read_csv('C:/Users/rajat/Desktop/robin 1/test_scores.csv')\n",
    "df"
   ]
  },
  {
   "cell_type": "code",
   "execution_count": null,
   "id": "d7b0b669-f86e-4cc5-9e16-6844fd3114d8",
   "metadata": {},
   "outputs": [],
   "source": []
  },
  {
   "cell_type": "code",
   "execution_count": 4,
   "id": "de4e366d-c9d2-419c-b3af-eba443944996",
   "metadata": {},
   "outputs": [
    {
     "data": {
      "text/plain": [
       "school             0\n",
       "school_setting     0\n",
       "school_type        0\n",
       "classroom          0\n",
       "teaching_method    0\n",
       "n_student          0\n",
       "student_id         0\n",
       "gender             0\n",
       "lunch              0\n",
       "pretest            0\n",
       "posttest           0\n",
       "dtype: int64"
      ]
     },
     "execution_count": 4,
     "metadata": {},
     "output_type": "execute_result"
    }
   ],
   "source": [
    "df.isna().sum()"
   ]
  },
  {
   "cell_type": "code",
   "execution_count": 5,
   "id": "61b03d5c-32b4-4e4e-a97f-4a63e250aa75",
   "metadata": {},
   "outputs": [
    {
     "data": {
      "text/plain": [
       "(2133, 11)"
      ]
     },
     "execution_count": 5,
     "metadata": {},
     "output_type": "execute_result"
    }
   ],
   "source": [
    "df.shape"
   ]
  },
  {
   "cell_type": "code",
   "execution_count": 6,
   "id": "e6bb99b5-4a4a-42df-8a8c-ab41718bb69c",
   "metadata": {},
   "outputs": [
    {
     "data": {
      "text/plain": [
       "array(['ANKYI', 'CCAAW', 'CIMBB', 'CUQAM', 'DNQDD', 'FBUMG', 'GJJHK',\n",
       "       'GOKXL', 'GOOBU', 'IDGFP', 'KFZMY', 'KZKKE', 'LAYPA', 'OJOBU',\n",
       "       'QOQTS', 'UAGPU', 'UKPGS', 'UUUQX', 'VHDHF', 'VKWQH', 'VVTVA',\n",
       "       'ZMNYA', 'ZOWMK'], dtype=object)"
      ]
     },
     "execution_count": 6,
     "metadata": {},
     "output_type": "execute_result"
    }
   ],
   "source": [
    "df['school'].unique()"
   ]
  },
  {
   "cell_type": "code",
   "execution_count": 7,
   "id": "a4fdf56c-b540-49ca-a38b-01dcfb201aee",
   "metadata": {},
   "outputs": [
    {
     "data": {
      "text/plain": [
       "23"
      ]
     },
     "execution_count": 7,
     "metadata": {},
     "output_type": "execute_result"
    }
   ],
   "source": [
    "df['school'].nunique()"
   ]
  },
  {
   "cell_type": "code",
   "execution_count": 8,
   "id": "9b849266-0fe6-4433-9412-8391d6363045",
   "metadata": {},
   "outputs": [
    {
     "data": {
      "text/plain": [
       "<AxesSubplot:xlabel='school', ylabel='posttest'>"
      ]
     },
     "execution_count": 8,
     "metadata": {},
     "output_type": "execute_result"
    },
    {
     "data": {
      "image/png": "[encoded data removed]",
      "text/plain": [
       "<Figure size 1440x1080 with 1 Axes>"
      ]
     },
     "metadata": {
      "needs_background": "light"
     },
     "output_type": "display_data"
    }
   ],
   "source": [
    "plt.figure(figsize=(20,15))\n",
    "sns.barplot(x=df['school'],y=df['posttest'])"
   ]
  },
  {
   "cell_type": "code",
   "execution_count": 9,
   "id": "cef5e240-f9de-45c9-bbbb-12b5714fefa9",
   "metadata": {},
   "outputs": [
    {
     "name": "stdout",
     "output_type": "stream",
     "text": [
      "3.9067049854001805\n",
      "5.1657649496003\n",
      "5.518744206674176\n",
      "4.438947357944975\n",
      "6.508490929469299\n",
      "4.7203456987881784\n",
      "8.77058050801499\n",
      "7.983243559755333\n",
      "6.6062156036437845\n",
      "7.40780820847833\n",
      "4.8964121631053406\n",
      "7.2796583613718235\n",
      "5.096000519903937\n",
      "8.050935243749\n",
      "7.161083260468173\n",
      "4.827613574087727\n",
      "3.4021531411877612\n",
      "6.065356440707707\n",
      "6.536091501686309\n",
      "9.571185924429638\n",
      "3.4111417392902132\n",
      "7.6938096541524175\n",
      "4.338227819639303\n"
     ]
    }
   ],
   "source": [
    "for i in df['school'].unique():\n",
    "    print(np.std(df[df['school']==i]['posttest']))"
   ]
  },
  {
   "cell_type": "code",
   "execution_count": 10,
   "id": "a14ab7e6-a537-4265-830c-fb7e87e3b957",
   "metadata": {},
   "outputs": [],
   "source": [
    "x=df['school'].value_counts().sort_values(ascending=False)"
   ]
  },
  {
   "cell_type": "code",
   "execution_count": 11,
   "id": "4bc10fb4-e293-4c11-a9f4-53051fafc65c",
   "metadata": {},
   "outputs": [
    {
     "data": {
      "text/plain": [
       "GOOBU    158\n",
       "QOQTS    149\n",
       "UKPGS    128\n",
       "DNQDD    122\n",
       "GJJHK    118\n",
       "ZOWMK    117\n",
       "VVTVA    114\n",
       "KZKKE    111\n",
       "CCAAW    109\n",
       "CUQAM    107\n",
       "VKWQH    100\n",
       "IDGFP     94\n",
       "UAGPU     87\n",
       "UUUQX     84\n",
       "OJOBU     81\n",
       "CIMBB     74\n",
       "ZMNYA     69\n",
       "GOKXL     64\n",
       "LAYPA     57\n",
       "KFZMY     52\n",
       "VHDHF     51\n",
       "FBUMG     46\n",
       "ANKYI     41\n",
       "Name: school, dtype: int64"
      ]
     },
     "execution_count": 11,
     "metadata": {},
     "output_type": "execute_result"
    }
   ],
   "source": [
    "x"
   ]
  },
  {
   "cell_type": "code",
   "execution_count": 12,
   "id": "466e8e23-aada-475a-9010-f18eea1ed9fd",
   "metadata": {},
   "outputs": [
    {
     "data": {
      "text/plain": [
       "pandas.core.series.Series"
      ]
     },
     "execution_count": 12,
     "metadata": {},
     "output_type": "execute_result"
    }
   ],
   "source": [
    "type(x)"
   ]
  },
  {
   "cell_type": "code",
   "execution_count": 13,
   "id": "6dede1e2-c8d2-4cfc-bdfe-a3d04cfa93a7",
   "metadata": {},
   "outputs": [],
   "source": [
    "y=[]\n",
    "for i in x.index:\n",
    "    y.append(df[df['school']==i]['posttest'].mean())"
   ]
  },
  {
   "cell_type": "code",
   "execution_count": 14,
   "id": "7a0f245f-0efd-4641-b9e7-42568e647bb3",
   "metadata": {},
   "outputs": [
    {
     "data": {
      "text/plain": [
       "[49.61392405063291,\n",
       " 64.67114093959732,\n",
       " 91.1640625,\n",
       " 66.56557377049181,\n",
       " 65.02542372881356,\n",
       " 52.9059829059829,\n",
       " 49.175438596491226,\n",
       " 47.91891891891892,\n",
       " 78.11009174311927,\n",
       " 65.5607476635514,\n",
       " 64.82,\n",
       " 87.22340425531915,\n",
       " 71.8735632183908,\n",
       " 79.26190476190476,\n",
       " 67.81481481481481,\n",
       " 76.94594594594595,\n",
       " 81.6086956521739,\n",
       " 64.953125,\n",
       " 73.50877192982456,\n",
       " 54.57692307692308,\n",
       " 66.84313725490196,\n",
       " 78.6086956521739,\n",
       " 71.39024390243902]"
      ]
     },
     "execution_count": 14,
     "metadata": {},
     "output_type": "execute_result"
    }
   ],
   "source": [
    "y"
   ]
  },
  {
   "cell_type": "code",
   "execution_count": 15,
   "id": "eb32c9c4-cdf2-40e1-9aba-7486362c8afd",
   "metadata": {},
   "outputs": [
    {
     "name": "stdout",
     "output_type": "stream",
     "text": [
      "max of y ->  91.1640625 min of y ->  47.91891891891892\n"
     ]
    }
   ],
   "source": [
    "print('max of y -> ',max(y),'min of y -> ',min(y))"
   ]
  },
  {
   "cell_type": "code",
   "execution_count": 16,
   "id": "e3b079af-8216-4e6b-8838-c8b3746b5475",
   "metadata": {},
   "outputs": [
    {
     "data": {
      "text/plain": [
       "<AxesSubplot:>"
      ]
     },
     "execution_count": 16,
     "metadata": {},
     "output_type": "execute_result"
    },
    {
     "data": {
      "image/png": "[encoded data removed]",
      "text/plain": [
       "<Figure size 2880x1080 with 1 Axes>"
      ]
     },
     "metadata": {
      "needs_background": "light"
     },
     "output_type": "display_data"
    }
   ],
   "source": [
    "plt.figure(figsize=(40,15))\n",
    "sns.barplot(x=x.index,y=y)"
   ]
  },
  {
   "cell_type": "code",
   "execution_count": 17,
   "id": "d79d93af-d1f1-4d43-852e-5181ecac2d90",
   "metadata": {},
   "outputs": [
    {
     "data": {
      "text/plain": [
       "GOOBU    158\n",
       "QOQTS    149\n",
       "UKPGS    128\n",
       "DNQDD    122\n",
       "GJJHK    118\n",
       "ZOWMK    117\n",
       "VVTVA    114\n",
       "KZKKE    111\n",
       "CCAAW    109\n",
       "CUQAM    107\n",
       "VKWQH    100\n",
       "IDGFP     94\n",
       "UAGPU     87\n",
       "UUUQX     84\n",
       "OJOBU     81\n",
       "CIMBB     74\n",
       "ZMNYA     69\n",
       "GOKXL     64\n",
       "LAYPA     57\n",
       "KFZMY     52\n",
       "VHDHF     51\n",
       "FBUMG     46\n",
       "ANKYI     41\n",
       "Name: school, dtype: int64"
      ]
     },
     "execution_count": 17,
     "metadata": {},
     "output_type": "execute_result"
    }
   ],
   "source": [
    "df['school'].value_counts()"
   ]
  },
  {
   "cell_type": "code",
   "execution_count": 18,
   "id": "13a283c7-ec62-4484-b5c8-12eeb3c9cf4a",
   "metadata": {},
   "outputs": [
    {
     "data": {
      "text/plain": [
       "23"
      ]
     },
     "execution_count": 18,
     "metadata": {},
     "output_type": "execute_result"
    }
   ],
   "source": [
    "df['school'].nunique()"
   ]
  },
  {
   "cell_type": "code",
   "execution_count": 19,
   "id": "b1b85179-625b-4c92-a4c0-d353ae5850bf",
   "metadata": {},
   "outputs": [
    {
     "data": {
      "text/html": [
       "<div>\n",
       "<style scoped>\n",
       "    .dataframe tbody tr th:only-of-type {\n",
       "        vertical-align: middle;\n",
       "    }\n",
       "\n",
       "    .dataframe tbody tr th {\n",
       "        vertical-align: top;\n",
       "    }\n",
       "\n",
       "    .dataframe thead th {\n",
       "        text-align: right;\n",
       "    }\n",
       "</style>\n",
       "<table border=\"1\" class=\"dataframe\">\n",
       "  <thead>\n",
       "    <tr style=\"text-align: right;\">\n",
       "      <th></th>\n",
       "      <th>n_student</th>\n",
       "      <th>pretest</th>\n",
       "      <th>posttest</th>\n",
       "    </tr>\n",
       "  </thead>\n",
       "  <tbody>\n",
       "    <tr>\n",
       "      <th>n_student</th>\n",
       "      <td>1.000000</td>\n",
       "      <td>-0.499253</td>\n",
       "      <td>-0.504886</td>\n",
       "    </tr>\n",
       "    <tr>\n",
       "      <th>pretest</th>\n",
       "      <td>-0.499253</td>\n",
       "      <td>1.000000</td>\n",
       "      <td>0.950884</td>\n",
       "    </tr>\n",
       "    <tr>\n",
       "      <th>posttest</th>\n",
       "      <td>-0.504886</td>\n",
       "      <td>0.950884</td>\n",
       "      <td>1.000000</td>\n",
       "    </tr>\n",
       "  </tbody>\n",
       "</table>\n",
       "</div>"
      ],
      "text/plain": [
       "           n_student   pretest  posttest\n",
       "n_student   1.000000 -0.499253 -0.504886\n",
       "pretest    -0.499253  1.000000  0.950884\n",
       "posttest   -0.504886  0.950884  1.000000"
      ]
     },
     "execution_count": 19,
     "metadata": {},
     "output_type": "execute_result"
    }
   ],
   "source": [
    "df.corr()"
   ]
  },
  {
   "cell_type": "markdown",
   "id": "3e7bb6d8-00f1-46e7-be60-7cbd68d3a846",
   "metadata": {},
   "source": [
    "\n",
    "## 1. There total of 23 school ranging from 41 to 158 students.\n",
    "## 2. not o much Difference in average marks of school'\n",
    "## 3. no. of students in school does not affect the performance of school.\n",
    "## 5. variance of all schools are almost same raging drom 4 to 9.\n",
    "## 4. there is signifiant effect of school on marks\n",
    "\n"
   ]
  },
  {
   "cell_type": "code",
   "execution_count": 20,
   "id": "cf30cd97-206a-4965-b8c2-42e4cc3123e4",
   "metadata": {},
   "outputs": [
    {
     "data": {
      "text/plain": [
       "Urban       906\n",
       "Suburban    717\n",
       "Rural       510\n",
       "Name: school_setting, dtype: int64"
      ]
     },
     "execution_count": 20,
     "metadata": {},
     "output_type": "execute_result"
    }
   ],
   "source": [
    "df['school_setting'].value_counts()"
   ]
  },
  {
   "cell_type": "code",
   "execution_count": 21,
   "id": "e68f5c31-f6ce-4b98-9e59-e32ccd000e49",
   "metadata": {},
   "outputs": [
    {
     "data": {
      "text/plain": [
       "<AxesSubplot:xlabel='school_setting', ylabel='posttest'>"
      ]
     },
     "execution_count": 21,
     "metadata": {},
     "output_type": "execute_result"
    },
    {
     "data": {
      "image/png": "[encoded data removed]",
      "text/plain": [
       "<Figure size 432x288 with 1 Axes>"
      ]
     },
     "metadata": {
      "needs_background": "light"
     },
     "output_type": "display_data"
    }
   ],
   "source": [
    "sns.barplot(x=df['school_setting'],y=df['posttest'])"
   ]
  },
  {
   "cell_type": "code",
   "execution_count": 22,
   "id": "dea9c5c9-08a1-4dd6-b339-f36afb14ebf4",
   "metadata": {},
   "outputs": [
    {
     "name": "stdout",
     "output_type": "stream",
     "text": [
      "VARIANCE\n",
      "Urban  ->  13.58891179414152\n",
      "Suburban  ->  11.038918300427465\n",
      "Rural  ->  12.081964723829103\n"
     ]
    }
   ],
   "source": [
    "print('VARIANCE')\n",
    "for i in df['school_setting'].unique():\n",
    "    print(i,' -> ',np.std(df[df['school_setting']==i]['posttest']))"
   ]
  },
  {
   "cell_type": "code",
   "execution_count": 23,
   "id": "fe9f52fe-eb92-4c95-9002-ddc404099107",
   "metadata": {},
   "outputs": [
    {
     "name": "stdout",
     "output_type": "stream",
     "text": [
      "MEAN\n",
      "Urban  ->  61.74834437086093\n",
      "Suburban  ->  76.0376569037657\n",
      "Rural  ->  64.05098039215686\n"
     ]
    }
   ],
   "source": [
    "print('MEAN')\n",
    "for i in df['school_setting'].unique():\n",
    "    print(i,' -> ',np.mean(df[df['school_setting']==i]['posttest']))"
   ]
  },
  {
   "cell_type": "markdown",
   "id": "14025c86-0645-4ea5-aa94-edc48c276d51",
   "metadata": {},
   "source": [
    "## 1. school setting does not seem to affect our data\n",
    "## 2. variance and means are almost equal. sub-urban has slightly greater mean than rest of categories. \n",
    "## 3. may or may not neglect during modelling."
   ]
  },
  {
   "cell_type": "code",
   "execution_count": 24,
   "id": "4ff981d5-9c0f-4e76-981a-0a6dee4e3aa4",
   "metadata": {},
   "outputs": [
    {
     "data": {
      "text/plain": [
       "Public        1582\n",
       "Non-public     551\n",
       "Name: school_type, dtype: int64"
      ]
     },
     "execution_count": 24,
     "metadata": {},
     "output_type": "execute_result"
    }
   ],
   "source": [
    "df['school_type'].value_counts()"
   ]
  },
  {
   "cell_type": "code",
   "execution_count": 25,
   "id": "52886940-a435-4bf1-b77b-7471012bff1f",
   "metadata": {},
   "outputs": [
    {
     "data": {
      "text/plain": [
       "<AxesSubplot:xlabel='school_type', ylabel='posttest'>"
      ]
     },
     "execution_count": 25,
     "metadata": {},
     "output_type": "execute_result"
    },
    {
     "data": {
      "image/png": "[encoded data removed]",
      "text/plain": [
       "<Figure size 432x288 with 1 Axes>"
      ]
     },
     "metadata": {
      "needs_background": "light"
     },
     "output_type": "display_data"
    }
   ],
   "source": [
    "sns.barplot(x=df['school_type'],y=df['posttest'])"
   ]
  },
  {
   "cell_type": "code",
   "execution_count": 26,
   "id": "7bc3ef02-423d-44c0-be84-0700da394adb",
   "metadata": {},
   "outputs": [
    {
     "name": "stdout",
     "output_type": "stream",
     "text": [
      "VARIANCE\n",
      "Non-public  ->  10.530243337624693\n",
      "Public  ->  13.717199071775248\n"
     ]
    }
   ],
   "source": [
    "print('VARIANCE')\n",
    "for i in df['school_type'].unique():\n",
    "    print(i,' -> ',np.std(df[df['school_type']==i]['posttest']))"
   ]
  },
  {
   "cell_type": "code",
   "execution_count": 27,
   "id": "5003197e-93ae-4b59-8ef8-0d25f07843ad",
   "metadata": {},
   "outputs": [
    {
     "name": "stdout",
     "output_type": "stream",
     "text": [
      "MEAN\n",
      "Non-public  ->  75.96188747731398\n",
      "Public  ->  64.01643489254108\n"
     ]
    }
   ],
   "source": [
    "print('MEAN')\n",
    "for i in df['school_type'].unique():\n",
    "    print(i,' -> ',np.mean(df[df['school_type']==i]['posttest']))"
   ]
  },
  {
   "cell_type": "markdown",
   "id": "ec36c516-721d-4221-8a2a-30eb7f3a3c9e",
   "metadata": {},
   "source": [
    "## 1. significant difference between means of two school types\n",
    "## 2. variance is small for both.\n",
    "## 3. may include in modelling."
   ]
  },
  {
   "cell_type": "code",
   "execution_count": 28,
   "id": "e3f7ed88-3156-4d3a-b796-124e82853838",
   "metadata": {},
   "outputs": [],
   "source": [
    "from collections import defaultdict\n",
    "d=defaultdict(set)\n",
    "for i in df.index:\n",
    "    d[df.loc[i,'classroom']].add(df.loc[i,'school'])\n",
    "    \n"
   ]
  },
  {
   "cell_type": "code",
   "execution_count": 29,
   "id": "ab1561ea-61b2-492a-adc0-8771702345b0",
   "metadata": {},
   "outputs": [
    {
     "name": "stdout",
     "output_type": "stream",
     "text": [
      "1\n",
      "1\n",
      "1\n",
      "1\n",
      "1\n",
      "1\n",
      "1\n",
      "1\n",
      "1\n",
      "1\n",
      "1\n",
      "1\n",
      "1\n",
      "1\n",
      "1\n",
      "1\n",
      "1\n",
      "1\n",
      "1\n",
      "1\n",
      "1\n",
      "1\n",
      "1\n",
      "1\n",
      "1\n",
      "1\n",
      "1\n",
      "1\n",
      "1\n",
      "1\n",
      "1\n",
      "1\n",
      "1\n",
      "1\n",
      "1\n",
      "1\n",
      "1\n",
      "1\n",
      "1\n",
      "1\n",
      "1\n",
      "1\n",
      "1\n",
      "1\n",
      "1\n",
      "1\n",
      "1\n",
      "1\n",
      "1\n",
      "1\n",
      "1\n",
      "1\n",
      "1\n",
      "1\n",
      "1\n",
      "1\n",
      "1\n",
      "1\n",
      "1\n",
      "1\n",
      "1\n",
      "1\n",
      "1\n",
      "1\n",
      "1\n",
      "1\n",
      "1\n",
      "1\n",
      "1\n",
      "1\n",
      "1\n",
      "1\n",
      "1\n",
      "1\n",
      "1\n",
      "1\n",
      "1\n",
      "1\n",
      "1\n",
      "1\n",
      "1\n",
      "1\n",
      "1\n",
      "1\n",
      "1\n",
      "1\n",
      "1\n",
      "1\n",
      "1\n",
      "1\n",
      "1\n",
      "1\n",
      "1\n",
      "1\n",
      "1\n",
      "1\n",
      "1\n"
     ]
    }
   ],
   "source": [
    "for i in d.values():\n",
    "    print(len(i))"
   ]
  },
  {
   "cell_type": "markdown",
   "id": "6609bb1f-7be7-4dca-8824-d6a8f5ef2bf2",
   "metadata": {},
   "source": [
    "## SCHOOLS HAVE UNIQUE CLASSES.NO TWO SCHOOLS HAVE SAME CLASS ROOM"
   ]
  },
  {
   "cell_type": "code",
   "execution_count": 30,
   "id": "23710149-7f64-4397-a423-ce366c67a8d6",
   "metadata": {},
   "outputs": [
    {
     "name": "stdout",
     "output_type": "stream",
     "text": [
      "ANKYI  -->>\n",
      "74.15\n",
      "68.76190476190476\n",
      "\n",
      "CCAAW  -->>\n",
      "77.66666666666667\n",
      "83.4\n",
      "78.06666666666666\n",
      "81.19047619047619\n",
      "70.9375\n",
      "75.63157894736842\n",
      "\n",
      "CIMBB  -->>\n",
      "70.10526315789474\n",
      "78.0952380952381\n",
      "82.58823529411765\n",
      "77.52941176470588\n",
      "\n",
      "CUQAM  -->>\n",
      "67.03571428571429\n",
      "60.81481481481482\n",
      "64.89285714285714\n",
      "69.95833333333333\n",
      "\n",
      "DNQDD  -->>\n",
      "60.96296296296296\n",
      "59.25\n",
      "73.42857142857143\n",
      "68.45\n",
      "69.07407407407408\n",
      "\n",
      "FBUMG  -->>\n",
      "77.92857142857143\n",
      "82.05555555555556\n",
      "74.85714285714286\n",
      "\n",
      "GJJHK  -->>\n",
      "57.63636363636363\n",
      "78.22222222222223\n",
      "66.04761904761905\n",
      "55.76190476190476\n",
      "64.25925925925925\n",
      "\n",
      "GOKXL  -->>\n",
      "70.0\n",
      "69.3913043478261\n",
      "53.73684210526316\n",
      "\n",
      "GOOBU  -->>\n",
      "56.03225806451613\n",
      "43.791666666666664\n",
      "41.035714285714285\n",
      "50.416666666666664\n",
      "48.92\n",
      "56.5\n",
      "\n",
      "IDGFP  -->>\n",
      "83.36363636363636\n",
      "92.04761904761905\n",
      "83.41176470588235\n",
      "98.41176470588235\n",
      "78.88235294117646\n",
      "\n",
      "KFZMY  -->>\n",
      "57.592592592592595\n",
      "51.32\n",
      "\n",
      "KZKKE  -->>\n",
      "57.65\n",
      "40.5\n",
      "44.0\n",
      "55.0\n",
      "43.869565217391305\n",
      "\n",
      "LAYPA  -->>\n",
      "71.57142857142857\n",
      "69.94736842105263\n",
      "79.88235294117646\n",
      "\n",
      "OJOBU  -->>\n",
      "78.41176470588235\n",
      "57.72727272727273\n",
      "70.73684210526316\n",
      "67.21739130434783\n",
      "\n",
      "QOQTS  -->>\n",
      "60.785714285714285\n",
      "59.0\n",
      "60.0\n",
      "62.5\n",
      "77.6\n",
      "68.54545454545455\n",
      "\n",
      "UAGPU  -->>\n",
      "68.22727272727273\n",
      "74.47826086956522\n",
      "67.95238095238095\n",
      "76.76190476190476\n",
      "\n",
      "UKPGS  -->>\n",
      "93.85714285714286\n",
      "93.16\n",
      "91.52631578947368\n",
      "89.94444444444444\n",
      "89.73913043478261\n",
      "88.5\n",
      "\n",
      "UUUQX  -->>\n",
      "71.6875\n",
      "84.05882352941177\n",
      "86.5625\n",
      "77.1\n",
      "77.0\n",
      "\n",
      "VHDHF  -->>\n",
      "71.4\n",
      "58.3125\n",
      "69.86666666666666\n",
      "\n",
      "VKWQH  -->>\n",
      "54.388888888888886\n",
      "74.95238095238095\n",
      "76.63157894736842\n",
      "59.45\n",
      "58.36363636363637\n",
      "\n",
      "VVTVA  -->>\n",
      "50.58620689655172\n",
      "47.7\n",
      "50.2\n",
      "48.43333333333333\n",
      "\n",
      "ZMNYA  -->>\n",
      "80.95833333333333\n",
      "73.45454545454545\n",
      "90.08695652173913\n",
      "\n",
      "ZOWMK  -->>\n",
      "58.592592592592595\n",
      "53.1\n",
      "50.733333333333334\n",
      "49.766666666666666\n",
      "\n"
     ]
    }
   ],
   "source": [
    "for i in df['school'].unique():\n",
    "    print(i,' -->>')\n",
    "    for j in df[df['school']==i]['classroom'].unique():\n",
    "        print(np.mean(df[df['classroom']==j]['posttest']))\n",
    "    print()\n"
   ]
  },
  {
   "cell_type": "markdown",
   "id": "49ffc72d-e3f2-426f-9fbe-b6ef9b23e960",
   "metadata": {},
   "source": [
    "## classes within school have average marks variances of 10-15\n",
    "\n",
    "## classroom for a particular school has a significant impact on posttest scores"
   ]
  },
  {
   "cell_type": "code",
   "execution_count": 31,
   "id": "437d33ac-0d7d-488a-8775-bddd24e8d7b1",
   "metadata": {},
   "outputs": [
    {
     "data": {
      "text/plain": [
       "Index(['school', 'school_setting', 'school_type', 'classroom',\n",
       "       'teaching_method', 'n_student', 'student_id', 'gender', 'lunch',\n",
       "       'pretest', 'posttest'],\n",
       "      dtype='object')"
      ]
     },
     "execution_count": 31,
     "metadata": {},
     "output_type": "execute_result"
    }
   ],
   "source": [
    "df.columns"
   ]
  },
  {
   "cell_type": "code",
   "execution_count": 32,
   "id": "3281a169-34bb-46a5-829f-840597a1fd61",
   "metadata": {},
   "outputs": [
    {
     "data": {
      "text/plain": [
       "Standard        1373\n",
       "Experimental     760\n",
       "Name: teaching_method, dtype: int64"
      ]
     },
     "execution_count": 32,
     "metadata": {},
     "output_type": "execute_result"
    }
   ],
   "source": [
    "df['teaching_method'].value_counts()"
   ]
  },
  {
   "cell_type": "code",
   "execution_count": 33,
   "id": "f1e2b9d2-597d-420f-8246-4283b9b2a3ca",
   "metadata": {},
   "outputs": [
    {
     "data": {
      "text/plain": [
       "<AxesSubplot:xlabel='teaching_method', ylabel='posttest'>"
      ]
     },
     "execution_count": 33,
     "metadata": {},
     "output_type": "execute_result"
    },
    {
     "data": {
      "image/png": "[encoded data removed]",
      "text/plain": [
       "<Figure size 432x288 with 1 Axes>"
      ]
     },
     "metadata": {
      "needs_background": "light"
     },
     "output_type": "display_data"
    }
   ],
   "source": [
    "sns.barplot(x=df['teaching_method'],y=df['posttest'])"
   ]
  },
  {
   "cell_type": "code",
   "execution_count": 34,
   "id": "79a58a96-d824-4727-9b56-d06202cb0693",
   "metadata": {},
   "outputs": [
    {
     "name": "stdout",
     "output_type": "stream",
     "text": [
      "MEAN\n",
      "63.84705025491624\n",
      "72.9828947368421\n"
     ]
    }
   ],
   "source": [
    "print('MEAN')\n",
    "for i in df['teaching_method'].unique():\n",
    "    print(np.mean(df[df['teaching_method']==i]['posttest']))"
   ]
  },
  {
   "cell_type": "code",
   "execution_count": 35,
   "id": "64c45e70-b5f6-4aba-99ee-21c4277ddce8",
   "metadata": {},
   "outputs": [
    {
     "name": "stdout",
     "output_type": "stream",
     "text": [
      "std\n",
      "13.030243283393558\n",
      "13.72352847214454\n"
     ]
    }
   ],
   "source": [
    "print('std')\n",
    "for i in df['teaching_method'].unique():\n",
    "    print(np.std(df[df['teaching_method']==i]['posttest']))"
   ]
  },
  {
   "cell_type": "markdown",
   "id": "6a26034f-c69d-4b79-a01e-4cbaf1e25b39",
   "metadata": {},
   "source": [
    "## teaching_method has a significant impact on posttest therefore showing a marginal difference between means"
   ]
  },
  {
   "cell_type": "code",
   "execution_count": 36,
   "id": "4de574c7-0e4c-42f8-a55b-1edfd9017598",
   "metadata": {},
   "outputs": [
    {
     "data": {
      "text/plain": [
       "Index(['school', 'school_setting', 'school_type', 'classroom',\n",
       "       'teaching_method', 'n_student', 'student_id', 'gender', 'lunch',\n",
       "       'pretest', 'posttest'],\n",
       "      dtype='object')"
      ]
     },
     "execution_count": 36,
     "metadata": {},
     "output_type": "execute_result"
    }
   ],
   "source": [
    "df.columns"
   ]
  },
  {
   "cell_type": "code",
   "execution_count": 37,
   "id": "ab0bc727-6fa0-49ed-ae44-e786a762d115",
   "metadata": {},
   "outputs": [
    {
     "data": {
      "text/html": [
       "<div>\n",
       "<style scoped>\n",
       "    .dataframe tbody tr th:only-of-type {\n",
       "        vertical-align: middle;\n",
       "    }\n",
       "\n",
       "    .dataframe tbody tr th {\n",
       "        vertical-align: top;\n",
       "    }\n",
       "\n",
       "    .dataframe thead th {\n",
       "        text-align: right;\n",
       "    }\n",
       "</style>\n",
       "<table border=\"1\" class=\"dataframe\">\n",
       "  <thead>\n",
       "    <tr style=\"text-align: right;\">\n",
       "      <th></th>\n",
       "      <th>n_student</th>\n",
       "      <th>pretest</th>\n",
       "      <th>posttest</th>\n",
       "    </tr>\n",
       "  </thead>\n",
       "  <tbody>\n",
       "    <tr>\n",
       "      <th>n_student</th>\n",
       "      <td>1.000000</td>\n",
       "      <td>-0.499253</td>\n",
       "      <td>-0.504886</td>\n",
       "    </tr>\n",
       "    <tr>\n",
       "      <th>pretest</th>\n",
       "      <td>-0.499253</td>\n",
       "      <td>1.000000</td>\n",
       "      <td>0.950884</td>\n",
       "    </tr>\n",
       "    <tr>\n",
       "      <th>posttest</th>\n",
       "      <td>-0.504886</td>\n",
       "      <td>0.950884</td>\n",
       "      <td>1.000000</td>\n",
       "    </tr>\n",
       "  </tbody>\n",
       "</table>\n",
       "</div>"
      ],
      "text/plain": [
       "           n_student   pretest  posttest\n",
       "n_student   1.000000 -0.499253 -0.504886\n",
       "pretest    -0.499253  1.000000  0.950884\n",
       "posttest   -0.504886  0.950884  1.000000"
      ]
     },
     "execution_count": 37,
     "metadata": {},
     "output_type": "execute_result"
    }
   ],
   "source": [
    "df.corr()"
   ]
  },
  {
   "cell_type": "markdown",
   "id": "c63c1bf1-c166-45ff-98ef-30961313cba9",
   "metadata": {},
   "source": [
    "## corr_coef of target_var and n_student is -0.504(quite significant)\n",
    "## corr_coef of target_var and pretest is 0.950(very significant)"
   ]
  },
  {
   "cell_type": "code",
   "execution_count": 38,
   "id": "c0548986-377f-4bd3-9284-6a4b8537851a",
   "metadata": {},
   "outputs": [
    {
     "data": {
      "text/plain": [
       "Male      1077\n",
       "Female    1056\n",
       "Name: gender, dtype: int64"
      ]
     },
     "execution_count": 38,
     "metadata": {},
     "output_type": "execute_result"
    }
   ],
   "source": [
    "df['gender'].value_counts()"
   ]
  },
  {
   "cell_type": "code",
   "execution_count": 39,
   "id": "7551045b-662e-4f58-9b20-de73b0ba4ad8",
   "metadata": {},
   "outputs": [
    {
     "data": {
      "text/plain": [
       "<AxesSubplot:xlabel='gender', ylabel='posttest'>"
      ]
     },
     "execution_count": 39,
     "metadata": {},
     "output_type": "execute_result"
    },
    {
     "data": {
      "image/png": "[encoded data removed]",
      "text/plain": [
       "<Figure size 432x288 with 1 Axes>"
      ]
     },
     "metadata": {
      "needs_background": "light"
     },
     "output_type": "display_data"
    }
   ],
   "source": [
    "sns.barplot(x=df['gender'],y=df['posttest'])"
   ]
  },
  {
   "cell_type": "code",
   "execution_count": 40,
   "id": "800679e4-1a5a-481f-9c8a-a035847ad56e",
   "metadata": {},
   "outputs": [
    {
     "data": {
      "text/plain": [
       "67.00473484848484"
      ]
     },
     "execution_count": 40,
     "metadata": {},
     "output_type": "execute_result"
    }
   ],
   "source": [
    "np.mean(df[df['gender']=='Female']['posttest'])"
   ]
  },
  {
   "cell_type": "markdown",
   "id": "c2995a4b-009a-4c9e-b5dd-ec9ce88e304e",
   "metadata": {},
   "source": [
    "## no difference on the basis of gender\n",
    "## can neglect during modelling"
   ]
  },
  {
   "cell_type": "code",
   "execution_count": 41,
   "id": "632ed894-0bd1-4021-ace9-bb4bb002a51b",
   "metadata": {},
   "outputs": [
    {
     "data": {
      "text/plain": [
       "Does not qualify                    1215\n",
       "Qualifies for reduced/free lunch     918\n",
       "Name: lunch, dtype: int64"
      ]
     },
     "execution_count": 41,
     "metadata": {},
     "output_type": "execute_result"
    }
   ],
   "source": [
    "df['lunch'].value_counts()"
   ]
  },
  {
   "cell_type": "code",
   "execution_count": 42,
   "id": "fc594be9-6499-4943-8a07-4191a672db55",
   "metadata": {},
   "outputs": [
    {
     "data": {
      "text/plain": [
       "<AxesSubplot:xlabel='lunch', ylabel='posttest'>"
      ]
     },
     "execution_count": 42,
     "metadata": {},
     "output_type": "execute_result"
    },
    {
     "data": {
      "image/png": "[encoded data removed]",
      "text/plain": [
       "<Figure size 432x288 with 1 Axes>"
      ]
     },
     "metadata": {
      "needs_background": "light"
     },
     "output_type": "display_data"
    }
   ],
   "source": [
    "sns.barplot(x=df['lunch'],y=df['posttest'])"
   ]
  },
  {
   "cell_type": "markdown",
   "id": "a528cf57-1e80-4b40-89b2-e627b097c0f3",
   "metadata": {},
   "source": [
    "## luch is also significant"
   ]
  },
  {
   "cell_type": "code",
   "execution_count": 43,
   "id": "186e98a5-3de0-430e-929c-3622dc95d525",
   "metadata": {},
   "outputs": [
    {
     "name": "stdout",
     "output_type": "stream",
     "text": [
      "<class 'pandas.core.frame.DataFrame'>\n",
      "RangeIndex: 2133 entries, 0 to 2132\n",
      "Data columns (total 11 columns):\n",
      " #   Column           Non-Null Count  Dtype  \n",
      "---  ------           --------------  -----  \n",
      " 0   school           2133 non-null   object \n",
      " 1   school_setting   2133 non-null   object \n",
      " 2   school_type      2133 non-null   object \n",
      " 3   classroom        2133 non-null   object \n",
      " 4   teaching_method  2133 non-null   object \n",
      " 5   n_student        2133 non-null   float64\n",
      " 6   student_id       2133 non-null   object \n",
      " 7   gender           2133 non-null   object \n",
      " 8   lunch            2133 non-null   object \n",
      " 9   pretest          2133 non-null   float64\n",
      " 10  posttest         2133 non-null   float64\n",
      "dtypes: float64(3), object(8)\n",
      "memory usage: 183.4+ KB\n"
     ]
    }
   ],
   "source": [
    "df.info()"
   ]
  },
  {
   "cell_type": "code",
   "execution_count": 44,
   "id": "785a0ae1-8546-4ccc-89bb-074ad7b6af5b",
   "metadata": {},
   "outputs": [
    {
     "data": {
      "text/plain": [
       "True"
      ]
     },
     "execution_count": 44,
     "metadata": {},
     "output_type": "execute_result"
    }
   ],
   "source": [
    "df['school'].dtype=='O'"
   ]
  },
  {
   "cell_type": "code",
   "execution_count": 45,
   "id": "724d9048-e25b-464e-83eb-00c4d804a5b5",
   "metadata": {},
   "outputs": [
    {
     "data": {
      "text/plain": [
       "['school',\n",
       " 'school_setting',\n",
       " 'school_type',\n",
       " 'classroom',\n",
       " 'teaching_method',\n",
       " 'student_id',\n",
       " 'gender',\n",
       " 'lunch']"
      ]
     },
     "execution_count": 45,
     "metadata": {},
     "output_type": "execute_result"
    }
   ],
   "source": [
    "categ_col=[]\n",
    "for i in df.columns:\n",
    "    if(df[i].dtype=='O'):\n",
    "        categ_col.append(i)\n",
    "categ_col"
   ]
  },
  {
   "cell_type": "code",
   "execution_count": 46,
   "id": "e5ccb277-5d48-49b9-8138-4b60eeaf6afe",
   "metadata": {},
   "outputs": [
    {
     "data": {
      "text/plain": [
       "'student_id'"
      ]
     },
     "execution_count": 46,
     "metadata": {},
     "output_type": "execute_result"
    }
   ],
   "source": [
    "categ_col.pop(5)"
   ]
  },
  {
   "cell_type": "code",
   "execution_count": 47,
   "id": "d3d8679a-f7b8-476a-91a0-5178e5bc6f00",
   "metadata": {},
   "outputs": [
    {
     "data": {
      "text/plain": [
       "'gender'"
      ]
     },
     "execution_count": 47,
     "metadata": {},
     "output_type": "execute_result"
    }
   ],
   "source": [
    "categ_col.pop(5)"
   ]
  },
  {
   "cell_type": "code",
   "execution_count": 48,
   "id": "34bafe6c-8eb2-4252-afe4-e84d9cf224c7",
   "metadata": {},
   "outputs": [
    {
     "data": {
      "text/plain": [
       "['school',\n",
       " 'school_setting',\n",
       " 'school_type',\n",
       " 'classroom',\n",
       " 'teaching_method',\n",
       " 'lunch']"
      ]
     },
     "execution_count": 48,
     "metadata": {},
     "output_type": "execute_result"
    }
   ],
   "source": [
    "categ_col"
   ]
  },
  {
   "cell_type": "code",
   "execution_count": 49,
   "id": "f55fa5af-aaeb-4474-9bbe-2e4694eea37b",
   "metadata": {},
   "outputs": [],
   "source": [
    "num_col=['n_student','pretest']"
   ]
  },
  {
   "cell_type": "code",
   "execution_count": 50,
   "id": "1a80c046-be5e-4d2a-9d7d-7255d91762f0",
   "metadata": {},
   "outputs": [
    {
     "data": {
      "text/html": [
       "<div>\n",
       "<style scoped>\n",
       "    .dataframe tbody tr th:only-of-type {\n",
       "        vertical-align: middle;\n",
       "    }\n",
       "\n",
       "    .dataframe tbody tr th {\n",
       "        vertical-align: top;\n",
       "    }\n",
       "\n",
       "    .dataframe thead th {\n",
       "        text-align: right;\n",
       "    }\n",
       "</style>\n",
       "<table border=\"1\" class=\"dataframe\">\n",
       "  <thead>\n",
       "    <tr style=\"text-align: right;\">\n",
       "      <th></th>\n",
       "      <th>n_student</th>\n",
       "      <th>pretest</th>\n",
       "    </tr>\n",
       "  </thead>\n",
       "  <tbody>\n",
       "    <tr>\n",
       "      <th>0</th>\n",
       "      <td>20.0</td>\n",
       "      <td>62.0</td>\n",
       "    </tr>\n",
       "    <tr>\n",
       "      <th>1</th>\n",
       "      <td>20.0</td>\n",
       "      <td>66.0</td>\n",
       "    </tr>\n",
       "    <tr>\n",
       "      <th>2</th>\n",
       "      <td>20.0</td>\n",
       "      <td>64.0</td>\n",
       "    </tr>\n",
       "    <tr>\n",
       "      <th>3</th>\n",
       "      <td>20.0</td>\n",
       "      <td>61.0</td>\n",
       "    </tr>\n",
       "    <tr>\n",
       "      <th>4</th>\n",
       "      <td>20.0</td>\n",
       "      <td>64.0</td>\n",
       "    </tr>\n",
       "    <tr>\n",
       "      <th>...</th>\n",
       "      <td>...</td>\n",
       "      <td>...</td>\n",
       "    </tr>\n",
       "    <tr>\n",
       "      <th>2128</th>\n",
       "      <td>30.0</td>\n",
       "      <td>39.0</td>\n",
       "    </tr>\n",
       "    <tr>\n",
       "      <th>2129</th>\n",
       "      <td>30.0</td>\n",
       "      <td>38.0</td>\n",
       "    </tr>\n",
       "    <tr>\n",
       "      <th>2130</th>\n",
       "      <td>30.0</td>\n",
       "      <td>45.0</td>\n",
       "    </tr>\n",
       "    <tr>\n",
       "      <th>2131</th>\n",
       "      <td>30.0</td>\n",
       "      <td>46.0</td>\n",
       "    </tr>\n",
       "    <tr>\n",
       "      <th>2132</th>\n",
       "      <td>30.0</td>\n",
       "      <td>41.0</td>\n",
       "    </tr>\n",
       "  </tbody>\n",
       "</table>\n",
       "<p>2133 rows × 2 columns</p>\n",
       "</div>"
      ],
      "text/plain": [
       "      n_student  pretest\n",
       "0          20.0     62.0\n",
       "1          20.0     66.0\n",
       "2          20.0     64.0\n",
       "3          20.0     61.0\n",
       "4          20.0     64.0\n",
       "...         ...      ...\n",
       "2128       30.0     39.0\n",
       "2129       30.0     38.0\n",
       "2130       30.0     45.0\n",
       "2131       30.0     46.0\n",
       "2132       30.0     41.0\n",
       "\n",
       "[2133 rows x 2 columns]"
      ]
     },
     "execution_count": 50,
     "metadata": {},
     "output_type": "execute_result"
    }
   ],
   "source": [
    "df[num_col]"
   ]
  },
  {
   "cell_type": "code",
   "execution_count": 51,
   "id": "6e93006a-c8e1-4a73-a6b9-43216fa785ac",
   "metadata": {},
   "outputs": [],
   "source": [
    "target=df['posttest']"
   ]
  },
  {
   "cell_type": "code",
   "execution_count": 52,
   "id": "5fc7a0cb-43d2-4a51-9971-3e80f23bab96",
   "metadata": {},
   "outputs": [
    {
     "data": {
      "text/plain": [
       "0       72.0\n",
       "1       79.0\n",
       "2       76.0\n",
       "3       77.0\n",
       "4       76.0\n",
       "        ... \n",
       "2128    55.0\n",
       "2129    46.0\n",
       "2130    51.0\n",
       "2131    53.0\n",
       "2132    48.0\n",
       "Name: posttest, Length: 2133, dtype: float64"
      ]
     },
     "execution_count": 52,
     "metadata": {},
     "output_type": "execute_result"
    }
   ],
   "source": [
    "target"
   ]
  },
  {
   "cell_type": "code",
   "execution_count": 53,
   "id": "eb529399-70da-4634-9ba0-ba0da0cc6a9b",
   "metadata": {},
   "outputs": [
    {
     "data": {
      "text/html": [
       "<div>\n",
       "<style scoped>\n",
       "    .dataframe tbody tr th:only-of-type {\n",
       "        vertical-align: middle;\n",
       "    }\n",
       "\n",
       "    .dataframe tbody tr th {\n",
       "        vertical-align: top;\n",
       "    }\n",
       "\n",
       "    .dataframe thead th {\n",
       "        text-align: right;\n",
       "    }\n",
       "</style>\n",
       "<table border=\"1\" class=\"dataframe\">\n",
       "  <thead>\n",
       "    <tr style=\"text-align: right;\">\n",
       "      <th></th>\n",
       "      <th>school</th>\n",
       "      <th>school_setting</th>\n",
       "      <th>school_type</th>\n",
       "      <th>classroom</th>\n",
       "      <th>teaching_method</th>\n",
       "      <th>lunch</th>\n",
       "    </tr>\n",
       "  </thead>\n",
       "  <tbody>\n",
       "    <tr>\n",
       "      <th>0</th>\n",
       "      <td>ANKYI</td>\n",
       "      <td>Urban</td>\n",
       "      <td>Non-public</td>\n",
       "      <td>6OL</td>\n",
       "      <td>Standard</td>\n",
       "      <td>Does not qualify</td>\n",
       "    </tr>\n",
       "    <tr>\n",
       "      <th>1</th>\n",
       "      <td>ANKYI</td>\n",
       "      <td>Urban</td>\n",
       "      <td>Non-public</td>\n",
       "      <td>6OL</td>\n",
       "      <td>Standard</td>\n",
       "      <td>Does not qualify</td>\n",
       "    </tr>\n",
       "    <tr>\n",
       "      <th>2</th>\n",
       "      <td>ANKYI</td>\n",
       "      <td>Urban</td>\n",
       "      <td>Non-public</td>\n",
       "      <td>6OL</td>\n",
       "      <td>Standard</td>\n",
       "      <td>Does not qualify</td>\n",
       "    </tr>\n",
       "    <tr>\n",
       "      <th>3</th>\n",
       "      <td>ANKYI</td>\n",
       "      <td>Urban</td>\n",
       "      <td>Non-public</td>\n",
       "      <td>6OL</td>\n",
       "      <td>Standard</td>\n",
       "      <td>Does not qualify</td>\n",
       "    </tr>\n",
       "    <tr>\n",
       "      <th>4</th>\n",
       "      <td>ANKYI</td>\n",
       "      <td>Urban</td>\n",
       "      <td>Non-public</td>\n",
       "      <td>6OL</td>\n",
       "      <td>Standard</td>\n",
       "      <td>Does not qualify</td>\n",
       "    </tr>\n",
       "    <tr>\n",
       "      <th>...</th>\n",
       "      <td>...</td>\n",
       "      <td>...</td>\n",
       "      <td>...</td>\n",
       "      <td>...</td>\n",
       "      <td>...</td>\n",
       "      <td>...</td>\n",
       "    </tr>\n",
       "    <tr>\n",
       "      <th>2128</th>\n",
       "      <td>ZOWMK</td>\n",
       "      <td>Urban</td>\n",
       "      <td>Public</td>\n",
       "      <td>ZBH</td>\n",
       "      <td>Standard</td>\n",
       "      <td>Does not qualify</td>\n",
       "    </tr>\n",
       "    <tr>\n",
       "      <th>2129</th>\n",
       "      <td>ZOWMK</td>\n",
       "      <td>Urban</td>\n",
       "      <td>Public</td>\n",
       "      <td>ZBH</td>\n",
       "      <td>Standard</td>\n",
       "      <td>Qualifies for reduced/free lunch</td>\n",
       "    </tr>\n",
       "    <tr>\n",
       "      <th>2130</th>\n",
       "      <td>ZOWMK</td>\n",
       "      <td>Urban</td>\n",
       "      <td>Public</td>\n",
       "      <td>ZBH</td>\n",
       "      <td>Standard</td>\n",
       "      <td>Qualifies for reduced/free lunch</td>\n",
       "    </tr>\n",
       "    <tr>\n",
       "      <th>2131</th>\n",
       "      <td>ZOWMK</td>\n",
       "      <td>Urban</td>\n",
       "      <td>Public</td>\n",
       "      <td>ZBH</td>\n",
       "      <td>Standard</td>\n",
       "      <td>Qualifies for reduced/free lunch</td>\n",
       "    </tr>\n",
       "    <tr>\n",
       "      <th>2132</th>\n",
       "      <td>ZOWMK</td>\n",
       "      <td>Urban</td>\n",
       "      <td>Public</td>\n",
       "      <td>ZBH</td>\n",
       "      <td>Standard</td>\n",
       "      <td>Qualifies for reduced/free lunch</td>\n",
       "    </tr>\n",
       "  </tbody>\n",
       "</table>\n",
       "<p>2133 rows × 6 columns</p>\n",
       "</div>"
      ],
      "text/plain": [
       "     school school_setting school_type classroom teaching_method  \\\n",
       "0     ANKYI          Urban  Non-public       6OL        Standard   \n",
       "1     ANKYI          Urban  Non-public       6OL        Standard   \n",
       "2     ANKYI          Urban  Non-public       6OL        Standard   \n",
       "3     ANKYI          Urban  Non-public       6OL        Standard   \n",
       "4     ANKYI          Urban  Non-public       6OL        Standard   \n",
       "...     ...            ...         ...       ...             ...   \n",
       "2128  ZOWMK          Urban      Public       ZBH        Standard   \n",
       "2129  ZOWMK          Urban      Public       ZBH        Standard   \n",
       "2130  ZOWMK          Urban      Public       ZBH        Standard   \n",
       "2131  ZOWMK          Urban      Public       ZBH        Standard   \n",
       "2132  ZOWMK          Urban      Public       ZBH        Standard   \n",
       "\n",
       "                                 lunch  \n",
       "0                     Does not qualify  \n",
       "1                     Does not qualify  \n",
       "2                     Does not qualify  \n",
       "3                     Does not qualify  \n",
       "4                     Does not qualify  \n",
       "...                                ...  \n",
       "2128                  Does not qualify  \n",
       "2129  Qualifies for reduced/free lunch  \n",
       "2130  Qualifies for reduced/free lunch  \n",
       "2131  Qualifies for reduced/free lunch  \n",
       "2132  Qualifies for reduced/free lunch  \n",
       "\n",
       "[2133 rows x 6 columns]"
      ]
     },
     "execution_count": 53,
     "metadata": {},
     "output_type": "execute_result"
    }
   ],
   "source": [
    "df[categ_col]"
   ]
  },
  {
   "cell_type": "code",
   "execution_count": 54,
   "id": "0fb20231-4b35-47b7-a812-3ce42375e5cb",
   "metadata": {},
   "outputs": [],
   "source": [
    "categ_df=pd.get_dummies(df[categ_col])"
   ]
  },
  {
   "cell_type": "code",
   "execution_count": 55,
   "id": "98e46ab3-13bd-438c-8f96-29cb5e074ea1",
   "metadata": {},
   "outputs": [
    {
     "data": {
      "text/html": [
       "<div>\n",
       "<style scoped>\n",
       "    .dataframe tbody tr th:only-of-type {\n",
       "        vertical-align: middle;\n",
       "    }\n",
       "\n",
       "    .dataframe tbody tr th {\n",
       "        vertical-align: top;\n",
       "    }\n",
       "\n",
       "    .dataframe thead th {\n",
       "        text-align: right;\n",
       "    }\n",
       "</style>\n",
       "<table border=\"1\" class=\"dataframe\">\n",
       "  <thead>\n",
       "    <tr style=\"text-align: right;\">\n",
       "      <th></th>\n",
       "      <th>school_ANKYI</th>\n",
       "      <th>school_CCAAW</th>\n",
       "      <th>school_CIMBB</th>\n",
       "      <th>school_CUQAM</th>\n",
       "      <th>school_DNQDD</th>\n",
       "      <th>school_FBUMG</th>\n",
       "      <th>school_GJJHK</th>\n",
       "      <th>school_GOKXL</th>\n",
       "      <th>school_GOOBU</th>\n",
       "      <th>school_IDGFP</th>\n",
       "      <th>...</th>\n",
       "      <th>classroom_XZM</th>\n",
       "      <th>classroom_YTB</th>\n",
       "      <th>classroom_YUC</th>\n",
       "      <th>classroom_ZBH</th>\n",
       "      <th>classroom_ZDT</th>\n",
       "      <th>classroom_ZNS</th>\n",
       "      <th>teaching_method_Experimental</th>\n",
       "      <th>teaching_method_Standard</th>\n",
       "      <th>lunch_Does not qualify</th>\n",
       "      <th>lunch_Qualifies for reduced/free lunch</th>\n",
       "    </tr>\n",
       "  </thead>\n",
       "  <tbody>\n",
       "    <tr>\n",
       "      <th>0</th>\n",
       "      <td>1</td>\n",
       "      <td>0</td>\n",
       "      <td>0</td>\n",
       "      <td>0</td>\n",
       "      <td>0</td>\n",
       "      <td>0</td>\n",
       "      <td>0</td>\n",
       "      <td>0</td>\n",
       "      <td>0</td>\n",
       "      <td>0</td>\n",
       "      <td>...</td>\n",
       "      <td>0</td>\n",
       "      <td>0</td>\n",
       "      <td>0</td>\n",
       "      <td>0</td>\n",
       "      <td>0</td>\n",
       "      <td>0</td>\n",
       "      <td>0</td>\n",
       "      <td>1</td>\n",
       "      <td>1</td>\n",
       "      <td>0</td>\n",
       "    </tr>\n",
       "    <tr>\n",
       "      <th>1</th>\n",
       "      <td>1</td>\n",
       "      <td>0</td>\n",
       "      <td>0</td>\n",
       "      <td>0</td>\n",
       "      <td>0</td>\n",
       "      <td>0</td>\n",
       "      <td>0</td>\n",
       "      <td>0</td>\n",
       "      <td>0</td>\n",
       "      <td>0</td>\n",
       "      <td>...</td>\n",
       "      <td>0</td>\n",
       "      <td>0</td>\n",
       "      <td>0</td>\n",
       "      <td>0</td>\n",
       "      <td>0</td>\n",
       "      <td>0</td>\n",
       "      <td>0</td>\n",
       "      <td>1</td>\n",
       "      <td>1</td>\n",
       "      <td>0</td>\n",
       "    </tr>\n",
       "    <tr>\n",
       "      <th>2</th>\n",
       "      <td>1</td>\n",
       "      <td>0</td>\n",
       "      <td>0</td>\n",
       "      <td>0</td>\n",
       "      <td>0</td>\n",
       "      <td>0</td>\n",
       "      <td>0</td>\n",
       "      <td>0</td>\n",
       "      <td>0</td>\n",
       "      <td>0</td>\n",
       "      <td>...</td>\n",
       "      <td>0</td>\n",
       "      <td>0</td>\n",
       "      <td>0</td>\n",
       "      <td>0</td>\n",
       "      <td>0</td>\n",
       "      <td>0</td>\n",
       "      <td>0</td>\n",
       "      <td>1</td>\n",
       "      <td>1</td>\n",
       "      <td>0</td>\n",
       "    </tr>\n",
       "    <tr>\n",
       "      <th>3</th>\n",
       "      <td>1</td>\n",
       "      <td>0</td>\n",
       "      <td>0</td>\n",
       "      <td>0</td>\n",
       "      <td>0</td>\n",
       "      <td>0</td>\n",
       "      <td>0</td>\n",
       "      <td>0</td>\n",
       "      <td>0</td>\n",
       "      <td>0</td>\n",
       "      <td>...</td>\n",
       "      <td>0</td>\n",
       "      <td>0</td>\n",
       "      <td>0</td>\n",
       "      <td>0</td>\n",
       "      <td>0</td>\n",
       "      <td>0</td>\n",
       "      <td>0</td>\n",
       "      <td>1</td>\n",
       "      <td>1</td>\n",
       "      <td>0</td>\n",
       "    </tr>\n",
       "    <tr>\n",
       "      <th>4</th>\n",
       "      <td>1</td>\n",
       "      <td>0</td>\n",
       "      <td>0</td>\n",
       "      <td>0</td>\n",
       "      <td>0</td>\n",
       "      <td>0</td>\n",
       "      <td>0</td>\n",
       "      <td>0</td>\n",
       "      <td>0</td>\n",
       "      <td>0</td>\n",
       "      <td>...</td>\n",
       "      <td>0</td>\n",
       "      <td>0</td>\n",
       "      <td>0</td>\n",
       "      <td>0</td>\n",
       "      <td>0</td>\n",
       "      <td>0</td>\n",
       "      <td>0</td>\n",
       "      <td>1</td>\n",
       "      <td>1</td>\n",
       "      <td>0</td>\n",
       "    </tr>\n",
       "    <tr>\n",
       "      <th>...</th>\n",
       "      <td>...</td>\n",
       "      <td>...</td>\n",
       "      <td>...</td>\n",
       "      <td>...</td>\n",
       "      <td>...</td>\n",
       "      <td>...</td>\n",
       "      <td>...</td>\n",
       "      <td>...</td>\n",
       "      <td>...</td>\n",
       "      <td>...</td>\n",
       "      <td>...</td>\n",
       "      <td>...</td>\n",
       "      <td>...</td>\n",
       "      <td>...</td>\n",
       "      <td>...</td>\n",
       "      <td>...</td>\n",
       "      <td>...</td>\n",
       "      <td>...</td>\n",
       "      <td>...</td>\n",
       "      <td>...</td>\n",
       "      <td>...</td>\n",
       "    </tr>\n",
       "    <tr>\n",
       "      <th>2128</th>\n",
       "      <td>0</td>\n",
       "      <td>0</td>\n",
       "      <td>0</td>\n",
       "      <td>0</td>\n",
       "      <td>0</td>\n",
       "      <td>0</td>\n",
       "      <td>0</td>\n",
       "      <td>0</td>\n",
       "      <td>0</td>\n",
       "      <td>0</td>\n",
       "      <td>...</td>\n",
       "      <td>0</td>\n",
       "      <td>0</td>\n",
       "      <td>0</td>\n",
       "      <td>1</td>\n",
       "      <td>0</td>\n",
       "      <td>0</td>\n",
       "      <td>0</td>\n",
       "      <td>1</td>\n",
       "      <td>1</td>\n",
       "      <td>0</td>\n",
       "    </tr>\n",
       "    <tr>\n",
       "      <th>2129</th>\n",
       "      <td>0</td>\n",
       "      <td>0</td>\n",
       "      <td>0</td>\n",
       "      <td>0</td>\n",
       "      <td>0</td>\n",
       "      <td>0</td>\n",
       "      <td>0</td>\n",
       "      <td>0</td>\n",
       "      <td>0</td>\n",
       "      <td>0</td>\n",
       "      <td>...</td>\n",
       "      <td>0</td>\n",
       "      <td>0</td>\n",
       "      <td>0</td>\n",
       "      <td>1</td>\n",
       "      <td>0</td>\n",
       "      <td>0</td>\n",
       "      <td>0</td>\n",
       "      <td>1</td>\n",
       "      <td>0</td>\n",
       "      <td>1</td>\n",
       "    </tr>\n",
       "    <tr>\n",
       "      <th>2130</th>\n",
       "      <td>0</td>\n",
       "      <td>0</td>\n",
       "      <td>0</td>\n",
       "      <td>0</td>\n",
       "      <td>0</td>\n",
       "      <td>0</td>\n",
       "      <td>0</td>\n",
       "      <td>0</td>\n",
       "      <td>0</td>\n",
       "      <td>0</td>\n",
       "      <td>...</td>\n",
       "      <td>0</td>\n",
       "      <td>0</td>\n",
       "      <td>0</td>\n",
       "      <td>1</td>\n",
       "      <td>0</td>\n",
       "      <td>0</td>\n",
       "      <td>0</td>\n",
       "      <td>1</td>\n",
       "      <td>0</td>\n",
       "      <td>1</td>\n",
       "    </tr>\n",
       "    <tr>\n",
       "      <th>2131</th>\n",
       "      <td>0</td>\n",
       "      <td>0</td>\n",
       "      <td>0</td>\n",
       "      <td>0</td>\n",
       "      <td>0</td>\n",
       "      <td>0</td>\n",
       "      <td>0</td>\n",
       "      <td>0</td>\n",
       "      <td>0</td>\n",
       "      <td>0</td>\n",
       "      <td>...</td>\n",
       "      <td>0</td>\n",
       "      <td>0</td>\n",
       "      <td>0</td>\n",
       "      <td>1</td>\n",
       "      <td>0</td>\n",
       "      <td>0</td>\n",
       "      <td>0</td>\n",
       "      <td>1</td>\n",
       "      <td>0</td>\n",
       "      <td>1</td>\n",
       "    </tr>\n",
       "    <tr>\n",
       "      <th>2132</th>\n",
       "      <td>0</td>\n",
       "      <td>0</td>\n",
       "      <td>0</td>\n",
       "      <td>0</td>\n",
       "      <td>0</td>\n",
       "      <td>0</td>\n",
       "      <td>0</td>\n",
       "      <td>0</td>\n",
       "      <td>0</td>\n",
       "      <td>0</td>\n",
       "      <td>...</td>\n",
       "      <td>0</td>\n",
       "      <td>0</td>\n",
       "      <td>0</td>\n",
       "      <td>1</td>\n",
       "      <td>0</td>\n",
       "      <td>0</td>\n",
       "      <td>0</td>\n",
       "      <td>1</td>\n",
       "      <td>0</td>\n",
       "      <td>1</td>\n",
       "    </tr>\n",
       "  </tbody>\n",
       "</table>\n",
       "<p>2133 rows × 129 columns</p>\n",
       "</div>"
      ],
      "text/plain": [
       "      school_ANKYI  school_CCAAW  school_CIMBB  school_CUQAM  school_DNQDD  \\\n",
       "0                1             0             0             0             0   \n",
       "1                1             0             0             0             0   \n",
       "2                1             0             0             0             0   \n",
       "3                1             0             0             0             0   \n",
       "4                1             0             0             0             0   \n",
       "...            ...           ...           ...           ...           ...   \n",
       "2128             0             0             0             0             0   \n",
       "2129             0             0             0             0             0   \n",
       "2130             0             0             0             0             0   \n",
       "2131             0             0             0             0             0   \n",
       "2132             0             0             0             0             0   \n",
       "\n",
       "      school_FBUMG  school_GJJHK  school_GOKXL  school_GOOBU  school_IDGFP  \\\n",
       "0                0             0             0             0             0   \n",
       "1                0             0             0             0             0   \n",
       "2                0             0             0             0             0   \n",
       "3                0             0             0             0             0   \n",
       "4                0             0             0             0             0   \n",
       "...            ...           ...           ...           ...           ...   \n",
       "2128             0             0             0             0             0   \n",
       "2129             0             0             0             0             0   \n",
       "2130             0             0             0             0             0   \n",
       "2131             0             0             0             0             0   \n",
       "2132             0             0             0             0             0   \n",
       "\n",
       "      ...  classroom_XZM  classroom_YTB  classroom_YUC  classroom_ZBH  \\\n",
       "0     ...              0              0              0              0   \n",
       "1     ...              0              0              0              0   \n",
       "2     ...              0              0              0              0   \n",
       "3     ...              0              0              0              0   \n",
       "4     ...              0              0              0              0   \n",
       "...   ...            ...            ...            ...            ...   \n",
       "2128  ...              0              0              0              1   \n",
       "2129  ...              0              0              0              1   \n",
       "2130  ...              0              0              0              1   \n",
       "2131  ...              0              0              0              1   \n",
       "2132  ...              0              0              0              1   \n",
       "\n",
       "      classroom_ZDT  classroom_ZNS  teaching_method_Experimental  \\\n",
       "0                 0              0                             0   \n",
       "1                 0              0                             0   \n",
       "2                 0              0                             0   \n",
       "3                 0              0                             0   \n",
       "4                 0              0                             0   \n",
       "...             ...            ...                           ...   \n",
       "2128              0              0                             0   \n",
       "2129              0              0                             0   \n",
       "2130              0              0                             0   \n",
       "2131              0              0                             0   \n",
       "2132              0              0                             0   \n",
       "\n",
       "      teaching_method_Standard  lunch_Does not qualify  \\\n",
       "0                            1                       1   \n",
       "1                            1                       1   \n",
       "2                            1                       1   \n",
       "3                            1                       1   \n",
       "4                            1                       1   \n",
       "...                        ...                     ...   \n",
       "2128                         1                       1   \n",
       "2129                         1                       0   \n",
       "2130                         1                       0   \n",
       "2131                         1                       0   \n",
       "2132                         1                       0   \n",
       "\n",
       "      lunch_Qualifies for reduced/free lunch  \n",
       "0                                          0  \n",
       "1                                          0  \n",
       "2                                          0  \n",
       "3                                          0  \n",
       "4                                          0  \n",
       "...                                      ...  \n",
       "2128                                       0  \n",
       "2129                                       1  \n",
       "2130                                       1  \n",
       "2131                                       1  \n",
       "2132                                       1  \n",
       "\n",
       "[2133 rows x 129 columns]"
      ]
     },
     "execution_count": 55,
     "metadata": {},
     "output_type": "execute_result"
    }
   ],
   "source": [
    "categ_df"
   ]
  },
  {
   "cell_type": "code",
   "execution_count": 56,
   "id": "1fce4d8d-86b2-4814-8597-da70ed797c0d",
   "metadata": {},
   "outputs": [],
   "source": [
    "categ_df=categ_df.drop(columns=['school_ANKYI','classroom_ZNS','teaching_method_Standard','lunch_Does not qualify'],axis=1)"
   ]
  },
  {
   "cell_type": "code",
   "execution_count": 57,
   "id": "eb1d57d4-3354-4ff4-aed0-cab0ca78e5af",
   "metadata": {},
   "outputs": [
    {
     "data": {
      "text/html": [
       "<div>\n",
       "<style scoped>\n",
       "    .dataframe tbody tr th:only-of-type {\n",
       "        vertical-align: middle;\n",
       "    }\n",
       "\n",
       "    .dataframe tbody tr th {\n",
       "        vertical-align: top;\n",
       "    }\n",
       "\n",
       "    .dataframe thead th {\n",
       "        text-align: right;\n",
       "    }\n",
       "</style>\n",
       "<table border=\"1\" class=\"dataframe\">\n",
       "  <thead>\n",
       "    <tr style=\"text-align: right;\">\n",
       "      <th></th>\n",
       "      <th>school_CCAAW</th>\n",
       "      <th>school_CIMBB</th>\n",
       "      <th>school_CUQAM</th>\n",
       "      <th>school_DNQDD</th>\n",
       "      <th>school_FBUMG</th>\n",
       "      <th>school_GJJHK</th>\n",
       "      <th>school_GOKXL</th>\n",
       "      <th>school_GOOBU</th>\n",
       "      <th>school_IDGFP</th>\n",
       "      <th>school_KFZMY</th>\n",
       "      <th>...</th>\n",
       "      <th>classroom_XXE</th>\n",
       "      <th>classroom_XXJ</th>\n",
       "      <th>classroom_XZ4</th>\n",
       "      <th>classroom_XZM</th>\n",
       "      <th>classroom_YTB</th>\n",
       "      <th>classroom_YUC</th>\n",
       "      <th>classroom_ZBH</th>\n",
       "      <th>classroom_ZDT</th>\n",
       "      <th>teaching_method_Experimental</th>\n",
       "      <th>lunch_Qualifies for reduced/free lunch</th>\n",
       "    </tr>\n",
       "  </thead>\n",
       "  <tbody>\n",
       "    <tr>\n",
       "      <th>0</th>\n",
       "      <td>0</td>\n",
       "      <td>0</td>\n",
       "      <td>0</td>\n",
       "      <td>0</td>\n",
       "      <td>0</td>\n",
       "      <td>0</td>\n",
       "      <td>0</td>\n",
       "      <td>0</td>\n",
       "      <td>0</td>\n",
       "      <td>0</td>\n",
       "      <td>...</td>\n",
       "      <td>0</td>\n",
       "      <td>0</td>\n",
       "      <td>0</td>\n",
       "      <td>0</td>\n",
       "      <td>0</td>\n",
       "      <td>0</td>\n",
       "      <td>0</td>\n",
       "      <td>0</td>\n",
       "      <td>0</td>\n",
       "      <td>0</td>\n",
       "    </tr>\n",
       "    <tr>\n",
       "      <th>1</th>\n",
       "      <td>0</td>\n",
       "      <td>0</td>\n",
       "      <td>0</td>\n",
       "      <td>0</td>\n",
       "      <td>0</td>\n",
       "      <td>0</td>\n",
       "      <td>0</td>\n",
       "      <td>0</td>\n",
       "      <td>0</td>\n",
       "      <td>0</td>\n",
       "      <td>...</td>\n",
       "      <td>0</td>\n",
       "      <td>0</td>\n",
       "      <td>0</td>\n",
       "      <td>0</td>\n",
       "      <td>0</td>\n",
       "      <td>0</td>\n",
       "      <td>0</td>\n",
       "      <td>0</td>\n",
       "      <td>0</td>\n",
       "      <td>0</td>\n",
       "    </tr>\n",
       "    <tr>\n",
       "      <th>2</th>\n",
       "      <td>0</td>\n",
       "      <td>0</td>\n",
       "      <td>0</td>\n",
       "      <td>0</td>\n",
       "      <td>0</td>\n",
       "      <td>0</td>\n",
       "      <td>0</td>\n",
       "      <td>0</td>\n",
       "      <td>0</td>\n",
       "      <td>0</td>\n",
       "      <td>...</td>\n",
       "      <td>0</td>\n",
       "      <td>0</td>\n",
       "      <td>0</td>\n",
       "      <td>0</td>\n",
       "      <td>0</td>\n",
       "      <td>0</td>\n",
       "      <td>0</td>\n",
       "      <td>0</td>\n",
       "      <td>0</td>\n",
       "      <td>0</td>\n",
       "    </tr>\n",
       "    <tr>\n",
       "      <th>3</th>\n",
       "      <td>0</td>\n",
       "      <td>0</td>\n",
       "      <td>0</td>\n",
       "      <td>0</td>\n",
       "      <td>0</td>\n",
       "      <td>0</td>\n",
       "      <td>0</td>\n",
       "      <td>0</td>\n",
       "      <td>0</td>\n",
       "      <td>0</td>\n",
       "      <td>...</td>\n",
       "      <td>0</td>\n",
       "      <td>0</td>\n",
       "      <td>0</td>\n",
       "      <td>0</td>\n",
       "      <td>0</td>\n",
       "      <td>0</td>\n",
       "      <td>0</td>\n",
       "      <td>0</td>\n",
       "      <td>0</td>\n",
       "      <td>0</td>\n",
       "    </tr>\n",
       "    <tr>\n",
       "      <th>4</th>\n",
       "      <td>0</td>\n",
       "      <td>0</td>\n",
       "      <td>0</td>\n",
       "      <td>0</td>\n",
       "      <td>0</td>\n",
       "      <td>0</td>\n",
       "      <td>0</td>\n",
       "      <td>0</td>\n",
       "      <td>0</td>\n",
       "      <td>0</td>\n",
       "      <td>...</td>\n",
       "      <td>0</td>\n",
       "      <td>0</td>\n",
       "      <td>0</td>\n",
       "      <td>0</td>\n",
       "      <td>0</td>\n",
       "      <td>0</td>\n",
       "      <td>0</td>\n",
       "      <td>0</td>\n",
       "      <td>0</td>\n",
       "      <td>0</td>\n",
       "    </tr>\n",
       "    <tr>\n",
       "      <th>...</th>\n",
       "      <td>...</td>\n",
       "      <td>...</td>\n",
       "      <td>...</td>\n",
       "      <td>...</td>\n",
       "      <td>...</td>\n",
       "      <td>...</td>\n",
       "      <td>...</td>\n",
       "      <td>...</td>\n",
       "      <td>...</td>\n",
       "      <td>...</td>\n",
       "      <td>...</td>\n",
       "      <td>...</td>\n",
       "      <td>...</td>\n",
       "      <td>...</td>\n",
       "      <td>...</td>\n",
       "      <td>...</td>\n",
       "      <td>...</td>\n",
       "      <td>...</td>\n",
       "      <td>...</td>\n",
       "      <td>...</td>\n",
       "      <td>...</td>\n",
       "    </tr>\n",
       "    <tr>\n",
       "      <th>2128</th>\n",
       "      <td>0</td>\n",
       "      <td>0</td>\n",
       "      <td>0</td>\n",
       "      <td>0</td>\n",
       "      <td>0</td>\n",
       "      <td>0</td>\n",
       "      <td>0</td>\n",
       "      <td>0</td>\n",
       "      <td>0</td>\n",
       "      <td>0</td>\n",
       "      <td>...</td>\n",
       "      <td>0</td>\n",
       "      <td>0</td>\n",
       "      <td>0</td>\n",
       "      <td>0</td>\n",
       "      <td>0</td>\n",
       "      <td>0</td>\n",
       "      <td>1</td>\n",
       "      <td>0</td>\n",
       "      <td>0</td>\n",
       "      <td>0</td>\n",
       "    </tr>\n",
       "    <tr>\n",
       "      <th>2129</th>\n",
       "      <td>0</td>\n",
       "      <td>0</td>\n",
       "      <td>0</td>\n",
       "      <td>0</td>\n",
       "      <td>0</td>\n",
       "      <td>0</td>\n",
       "      <td>0</td>\n",
       "      <td>0</td>\n",
       "      <td>0</td>\n",
       "      <td>0</td>\n",
       "      <td>...</td>\n",
       "      <td>0</td>\n",
       "      <td>0</td>\n",
       "      <td>0</td>\n",
       "      <td>0</td>\n",
       "      <td>0</td>\n",
       "      <td>0</td>\n",
       "      <td>1</td>\n",
       "      <td>0</td>\n",
       "      <td>0</td>\n",
       "      <td>1</td>\n",
       "    </tr>\n",
       "    <tr>\n",
       "      <th>2130</th>\n",
       "      <td>0</td>\n",
       "      <td>0</td>\n",
       "      <td>0</td>\n",
       "      <td>0</td>\n",
       "      <td>0</td>\n",
       "      <td>0</td>\n",
       "      <td>0</td>\n",
       "      <td>0</td>\n",
       "      <td>0</td>\n",
       "      <td>0</td>\n",
       "      <td>...</td>\n",
       "      <td>0</td>\n",
       "      <td>0</td>\n",
       "      <td>0</td>\n",
       "      <td>0</td>\n",
       "      <td>0</td>\n",
       "      <td>0</td>\n",
       "      <td>1</td>\n",
       "      <td>0</td>\n",
       "      <td>0</td>\n",
       "      <td>1</td>\n",
       "    </tr>\n",
       "    <tr>\n",
       "      <th>2131</th>\n",
       "      <td>0</td>\n",
       "      <td>0</td>\n",
       "      <td>0</td>\n",
       "      <td>0</td>\n",
       "      <td>0</td>\n",
       "      <td>0</td>\n",
       "      <td>0</td>\n",
       "      <td>0</td>\n",
       "      <td>0</td>\n",
       "      <td>0</td>\n",
       "      <td>...</td>\n",
       "      <td>0</td>\n",
       "      <td>0</td>\n",
       "      <td>0</td>\n",
       "      <td>0</td>\n",
       "      <td>0</td>\n",
       "      <td>0</td>\n",
       "      <td>1</td>\n",
       "      <td>0</td>\n",
       "      <td>0</td>\n",
       "      <td>1</td>\n",
       "    </tr>\n",
       "    <tr>\n",
       "      <th>2132</th>\n",
       "      <td>0</td>\n",
       "      <td>0</td>\n",
       "      <td>0</td>\n",
       "      <td>0</td>\n",
       "      <td>0</td>\n",
       "      <td>0</td>\n",
       "      <td>0</td>\n",
       "      <td>0</td>\n",
       "      <td>0</td>\n",
       "      <td>0</td>\n",
       "      <td>...</td>\n",
       "      <td>0</td>\n",
       "      <td>0</td>\n",
       "      <td>0</td>\n",
       "      <td>0</td>\n",
       "      <td>0</td>\n",
       "      <td>0</td>\n",
       "      <td>1</td>\n",
       "      <td>0</td>\n",
       "      <td>0</td>\n",
       "      <td>1</td>\n",
       "    </tr>\n",
       "  </tbody>\n",
       "</table>\n",
       "<p>2133 rows × 125 columns</p>\n",
       "</div>"
      ],
      "text/plain": [
       "      school_CCAAW  school_CIMBB  school_CUQAM  school_DNQDD  school_FBUMG  \\\n",
       "0                0             0             0             0             0   \n",
       "1                0             0             0             0             0   \n",
       "2                0             0             0             0             0   \n",
       "3                0             0             0             0             0   \n",
       "4                0             0             0             0             0   \n",
       "...            ...           ...           ...           ...           ...   \n",
       "2128             0             0             0             0             0   \n",
       "2129             0             0             0             0             0   \n",
       "2130             0             0             0             0             0   \n",
       "2131             0             0             0             0             0   \n",
       "2132             0             0             0             0             0   \n",
       "\n",
       "      school_GJJHK  school_GOKXL  school_GOOBU  school_IDGFP  school_KFZMY  \\\n",
       "0                0             0             0             0             0   \n",
       "1                0             0             0             0             0   \n",
       "2                0             0             0             0             0   \n",
       "3                0             0             0             0             0   \n",
       "4                0             0             0             0             0   \n",
       "...            ...           ...           ...           ...           ...   \n",
       "2128             0             0             0             0             0   \n",
       "2129             0             0             0             0             0   \n",
       "2130             0             0             0             0             0   \n",
       "2131             0             0             0             0             0   \n",
       "2132             0             0             0             0             0   \n",
       "\n",
       "      ...  classroom_XXE  classroom_XXJ  classroom_XZ4  classroom_XZM  \\\n",
       "0     ...              0              0              0              0   \n",
       "1     ...              0              0              0              0   \n",
       "2     ...              0              0              0              0   \n",
       "3     ...              0              0              0              0   \n",
       "4     ...              0              0              0              0   \n",
       "...   ...            ...            ...            ...            ...   \n",
       "2128  ...              0              0              0              0   \n",
       "2129  ...              0              0              0              0   \n",
       "2130  ...              0              0              0              0   \n",
       "2131  ...              0              0              0              0   \n",
       "2132  ...              0              0              0              0   \n",
       "\n",
       "      classroom_YTB  classroom_YUC  classroom_ZBH  classroom_ZDT  \\\n",
       "0                 0              0              0              0   \n",
       "1                 0              0              0              0   \n",
       "2                 0              0              0              0   \n",
       "3                 0              0              0              0   \n",
       "4                 0              0              0              0   \n",
       "...             ...            ...            ...            ...   \n",
       "2128              0              0              1              0   \n",
       "2129              0              0              1              0   \n",
       "2130              0              0              1              0   \n",
       "2131              0              0              1              0   \n",
       "2132              0              0              1              0   \n",
       "\n",
       "      teaching_method_Experimental  lunch_Qualifies for reduced/free lunch  \n",
       "0                                0                                       0  \n",
       "1                                0                                       0  \n",
       "2                                0                                       0  \n",
       "3                                0                                       0  \n",
       "4                                0                                       0  \n",
       "...                            ...                                     ...  \n",
       "2128                             0                                       0  \n",
       "2129                             0                                       1  \n",
       "2130                             0                                       1  \n",
       "2131                             0                                       1  \n",
       "2132                             0                                       1  \n",
       "\n",
       "[2133 rows x 125 columns]"
      ]
     },
     "execution_count": 57,
     "metadata": {},
     "output_type": "execute_result"
    }
   ],
   "source": [
    "categ_df"
   ]
  },
  {
   "cell_type": "code",
   "execution_count": 58,
   "id": "fb73d570-bbd4-441e-a48c-369a01a99575",
   "metadata": {},
   "outputs": [],
   "source": [
    "final_df=pd.concat([categ_df,df[num_col]],axis=1)"
   ]
  },
  {
   "cell_type": "code",
   "execution_count": 59,
   "id": "51f7fa3d-bb8d-4615-91b7-ebb42c74576a",
   "metadata": {},
   "outputs": [
    {
     "data": {
      "text/html": [
       "<div>\n",
       "<style scoped>\n",
       "    .dataframe tbody tr th:only-of-type {\n",
       "        vertical-align: middle;\n",
       "    }\n",
       "\n",
       "    .dataframe tbody tr th {\n",
       "        vertical-align: top;\n",
       "    }\n",
       "\n",
       "    .dataframe thead th {\n",
       "        text-align: right;\n",
       "    }\n",
       "</style>\n",
       "<table border=\"1\" class=\"dataframe\">\n",
       "  <thead>\n",
       "    <tr style=\"text-align: right;\">\n",
       "      <th></th>\n",
       "      <th>school_CCAAW</th>\n",
       "      <th>school_CIMBB</th>\n",
       "      <th>school_CUQAM</th>\n",
       "      <th>school_DNQDD</th>\n",
       "      <th>school_FBUMG</th>\n",
       "      <th>school_GJJHK</th>\n",
       "      <th>school_GOKXL</th>\n",
       "      <th>school_GOOBU</th>\n",
       "      <th>school_IDGFP</th>\n",
       "      <th>school_KFZMY</th>\n",
       "      <th>...</th>\n",
       "      <th>classroom_XZ4</th>\n",
       "      <th>classroom_XZM</th>\n",
       "      <th>classroom_YTB</th>\n",
       "      <th>classroom_YUC</th>\n",
       "      <th>classroom_ZBH</th>\n",
       "      <th>classroom_ZDT</th>\n",
       "      <th>teaching_method_Experimental</th>\n",
       "      <th>lunch_Qualifies for reduced/free lunch</th>\n",
       "      <th>n_student</th>\n",
       "      <th>pretest</th>\n",
       "    </tr>\n",
       "  </thead>\n",
       "  <tbody>\n",
       "    <tr>\n",
       "      <th>0</th>\n",
       "      <td>0</td>\n",
       "      <td>0</td>\n",
       "      <td>0</td>\n",
       "      <td>0</td>\n",
       "      <td>0</td>\n",
       "      <td>0</td>\n",
       "      <td>0</td>\n",
       "      <td>0</td>\n",
       "      <td>0</td>\n",
       "      <td>0</td>\n",
       "      <td>...</td>\n",
       "      <td>0</td>\n",
       "      <td>0</td>\n",
       "      <td>0</td>\n",
       "      <td>0</td>\n",
       "      <td>0</td>\n",
       "      <td>0</td>\n",
       "      <td>0</td>\n",
       "      <td>0</td>\n",
       "      <td>20.0</td>\n",
       "      <td>62.0</td>\n",
       "    </tr>\n",
       "    <tr>\n",
       "      <th>1</th>\n",
       "      <td>0</td>\n",
       "      <td>0</td>\n",
       "      <td>0</td>\n",
       "      <td>0</td>\n",
       "      <td>0</td>\n",
       "      <td>0</td>\n",
       "      <td>0</td>\n",
       "      <td>0</td>\n",
       "      <td>0</td>\n",
       "      <td>0</td>\n",
       "      <td>...</td>\n",
       "      <td>0</td>\n",
       "      <td>0</td>\n",
       "      <td>0</td>\n",
       "      <td>0</td>\n",
       "      <td>0</td>\n",
       "      <td>0</td>\n",
       "      <td>0</td>\n",
       "      <td>0</td>\n",
       "      <td>20.0</td>\n",
       "      <td>66.0</td>\n",
       "    </tr>\n",
       "    <tr>\n",
       "      <th>2</th>\n",
       "      <td>0</td>\n",
       "      <td>0</td>\n",
       "      <td>0</td>\n",
       "      <td>0</td>\n",
       "      <td>0</td>\n",
       "      <td>0</td>\n",
       "      <td>0</td>\n",
       "      <td>0</td>\n",
       "      <td>0</td>\n",
       "      <td>0</td>\n",
       "      <td>...</td>\n",
       "      <td>0</td>\n",
       "      <td>0</td>\n",
       "      <td>0</td>\n",
       "      <td>0</td>\n",
       "      <td>0</td>\n",
       "      <td>0</td>\n",
       "      <td>0</td>\n",
       "      <td>0</td>\n",
       "      <td>20.0</td>\n",
       "      <td>64.0</td>\n",
       "    </tr>\n",
       "    <tr>\n",
       "      <th>3</th>\n",
       "      <td>0</td>\n",
       "      <td>0</td>\n",
       "      <td>0</td>\n",
       "      <td>0</td>\n",
       "      <td>0</td>\n",
       "      <td>0</td>\n",
       "      <td>0</td>\n",
       "      <td>0</td>\n",
       "      <td>0</td>\n",
       "      <td>0</td>\n",
       "      <td>...</td>\n",
       "      <td>0</td>\n",
       "      <td>0</td>\n",
       "      <td>0</td>\n",
       "      <td>0</td>\n",
       "      <td>0</td>\n",
       "      <td>0</td>\n",
       "      <td>0</td>\n",
       "      <td>0</td>\n",
       "      <td>20.0</td>\n",
       "      <td>61.0</td>\n",
       "    </tr>\n",
       "    <tr>\n",
       "      <th>4</th>\n",
       "      <td>0</td>\n",
       "      <td>0</td>\n",
       "      <td>0</td>\n",
       "      <td>0</td>\n",
       "      <td>0</td>\n",
       "      <td>0</td>\n",
       "      <td>0</td>\n",
       "      <td>0</td>\n",
       "      <td>0</td>\n",
       "      <td>0</td>\n",
       "      <td>...</td>\n",
       "      <td>0</td>\n",
       "      <td>0</td>\n",
       "      <td>0</td>\n",
       "      <td>0</td>\n",
       "      <td>0</td>\n",
       "      <td>0</td>\n",
       "      <td>0</td>\n",
       "      <td>0</td>\n",
       "      <td>20.0</td>\n",
       "      <td>64.0</td>\n",
       "    </tr>\n",
       "    <tr>\n",
       "      <th>...</th>\n",
       "      <td>...</td>\n",
       "      <td>...</td>\n",
       "      <td>...</td>\n",
       "      <td>...</td>\n",
       "      <td>...</td>\n",
       "      <td>...</td>\n",
       "      <td>...</td>\n",
       "      <td>...</td>\n",
       "      <td>...</td>\n",
       "      <td>...</td>\n",
       "      <td>...</td>\n",
       "      <td>...</td>\n",
       "      <td>...</td>\n",
       "      <td>...</td>\n",
       "      <td>...</td>\n",
       "      <td>...</td>\n",
       "      <td>...</td>\n",
       "      <td>...</td>\n",
       "      <td>...</td>\n",
       "      <td>...</td>\n",
       "      <td>...</td>\n",
       "    </tr>\n",
       "    <tr>\n",
       "      <th>2128</th>\n",
       "      <td>0</td>\n",
       "      <td>0</td>\n",
       "      <td>0</td>\n",
       "      <td>0</td>\n",
       "      <td>0</td>\n",
       "      <td>0</td>\n",
       "      <td>0</td>\n",
       "      <td>0</td>\n",
       "      <td>0</td>\n",
       "      <td>0</td>\n",
       "      <td>...</td>\n",
       "      <td>0</td>\n",
       "      <td>0</td>\n",
       "      <td>0</td>\n",
       "      <td>0</td>\n",
       "      <td>1</td>\n",
       "      <td>0</td>\n",
       "      <td>0</td>\n",
       "      <td>0</td>\n",
       "      <td>30.0</td>\n",
       "      <td>39.0</td>\n",
       "    </tr>\n",
       "    <tr>\n",
       "      <th>2129</th>\n",
       "      <td>0</td>\n",
       "      <td>0</td>\n",
       "      <td>0</td>\n",
       "      <td>0</td>\n",
       "      <td>0</td>\n",
       "      <td>0</td>\n",
       "      <td>0</td>\n",
       "      <td>0</td>\n",
       "      <td>0</td>\n",
       "      <td>0</td>\n",
       "      <td>...</td>\n",
       "      <td>0</td>\n",
       "      <td>0</td>\n",
       "      <td>0</td>\n",
       "      <td>0</td>\n",
       "      <td>1</td>\n",
       "      <td>0</td>\n",
       "      <td>0</td>\n",
       "      <td>1</td>\n",
       "      <td>30.0</td>\n",
       "      <td>38.0</td>\n",
       "    </tr>\n",
       "    <tr>\n",
       "      <th>2130</th>\n",
       "      <td>0</td>\n",
       "      <td>0</td>\n",
       "      <td>0</td>\n",
       "      <td>0</td>\n",
       "      <td>0</td>\n",
       "      <td>0</td>\n",
       "      <td>0</td>\n",
       "      <td>0</td>\n",
       "      <td>0</td>\n",
       "      <td>0</td>\n",
       "      <td>...</td>\n",
       "      <td>0</td>\n",
       "      <td>0</td>\n",
       "      <td>0</td>\n",
       "      <td>0</td>\n",
       "      <td>1</td>\n",
       "      <td>0</td>\n",
       "      <td>0</td>\n",
       "      <td>1</td>\n",
       "      <td>30.0</td>\n",
       "      <td>45.0</td>\n",
       "    </tr>\n",
       "    <tr>\n",
       "      <th>2131</th>\n",
       "      <td>0</td>\n",
       "      <td>0</td>\n",
       "      <td>0</td>\n",
       "      <td>0</td>\n",
       "      <td>0</td>\n",
       "      <td>0</td>\n",
       "      <td>0</td>\n",
       "      <td>0</td>\n",
       "      <td>0</td>\n",
       "      <td>0</td>\n",
       "      <td>...</td>\n",
       "      <td>0</td>\n",
       "      <td>0</td>\n",
       "      <td>0</td>\n",
       "      <td>0</td>\n",
       "      <td>1</td>\n",
       "      <td>0</td>\n",
       "      <td>0</td>\n",
       "      <td>1</td>\n",
       "      <td>30.0</td>\n",
       "      <td>46.0</td>\n",
       "    </tr>\n",
       "    <tr>\n",
       "      <th>2132</th>\n",
       "      <td>0</td>\n",
       "      <td>0</td>\n",
       "      <td>0</td>\n",
       "      <td>0</td>\n",
       "      <td>0</td>\n",
       "      <td>0</td>\n",
       "      <td>0</td>\n",
       "      <td>0</td>\n",
       "      <td>0</td>\n",
       "      <td>0</td>\n",
       "      <td>...</td>\n",
       "      <td>0</td>\n",
       "      <td>0</td>\n",
       "      <td>0</td>\n",
       "      <td>0</td>\n",
       "      <td>1</td>\n",
       "      <td>0</td>\n",
       "      <td>0</td>\n",
       "      <td>1</td>\n",
       "      <td>30.0</td>\n",
       "      <td>41.0</td>\n",
       "    </tr>\n",
       "  </tbody>\n",
       "</table>\n",
       "<p>2133 rows × 127 columns</p>\n",
       "</div>"
      ],
      "text/plain": [
       "      school_CCAAW  school_CIMBB  school_CUQAM  school_DNQDD  school_FBUMG  \\\n",
       "0                0             0             0             0             0   \n",
       "1                0             0             0             0             0   \n",
       "2                0             0             0             0             0   \n",
       "3                0             0             0             0             0   \n",
       "4                0             0             0             0             0   \n",
       "...            ...           ...           ...           ...           ...   \n",
       "2128             0             0             0             0             0   \n",
       "2129             0             0             0             0             0   \n",
       "2130             0             0             0             0             0   \n",
       "2131             0             0             0             0             0   \n",
       "2132             0             0             0             0             0   \n",
       "\n",
       "      school_GJJHK  school_GOKXL  school_GOOBU  school_IDGFP  school_KFZMY  \\\n",
       "0                0             0             0             0             0   \n",
       "1                0             0             0             0             0   \n",
       "2                0             0             0             0             0   \n",
       "3                0             0             0             0             0   \n",
       "4                0             0             0             0             0   \n",
       "...            ...           ...           ...           ...           ...   \n",
       "2128             0             0             0             0             0   \n",
       "2129             0             0             0             0             0   \n",
       "2130             0             0             0             0             0   \n",
       "2131             0             0             0             0             0   \n",
       "2132             0             0             0             0             0   \n",
       "\n",
       "      ...  classroom_XZ4  classroom_XZM  classroom_YTB  classroom_YUC  \\\n",
       "0     ...              0              0              0              0   \n",
       "1     ...              0              0              0              0   \n",
       "2     ...              0              0              0              0   \n",
       "3     ...              0              0              0              0   \n",
       "4     ...              0              0              0              0   \n",
       "...   ...            ...            ...            ...            ...   \n",
       "2128  ...              0              0              0              0   \n",
       "2129  ...              0              0              0              0   \n",
       "2130  ...              0              0              0              0   \n",
       "2131  ...              0              0              0              0   \n",
       "2132  ...              0              0              0              0   \n",
       "\n",
       "      classroom_ZBH  classroom_ZDT  teaching_method_Experimental  \\\n",
       "0                 0              0                             0   \n",
       "1                 0              0                             0   \n",
       "2                 0              0                             0   \n",
       "3                 0              0                             0   \n",
       "4                 0              0                             0   \n",
       "...             ...            ...                           ...   \n",
       "2128              1              0                             0   \n",
       "2129              1              0                             0   \n",
       "2130              1              0                             0   \n",
       "2131              1              0                             0   \n",
       "2132              1              0                             0   \n",
       "\n",
       "      lunch_Qualifies for reduced/free lunch  n_student  pretest  \n",
       "0                                          0       20.0     62.0  \n",
       "1                                          0       20.0     66.0  \n",
       "2                                          0       20.0     64.0  \n",
       "3                                          0       20.0     61.0  \n",
       "4                                          0       20.0     64.0  \n",
       "...                                      ...        ...      ...  \n",
       "2128                                       0       30.0     39.0  \n",
       "2129                                       1       30.0     38.0  \n",
       "2130                                       1       30.0     45.0  \n",
       "2131                                       1       30.0     46.0  \n",
       "2132                                       1       30.0     41.0  \n",
       "\n",
       "[2133 rows x 127 columns]"
      ]
     },
     "execution_count": 59,
     "metadata": {},
     "output_type": "execute_result"
    }
   ],
   "source": [
    "final_df"
   ]
  },
  {
   "cell_type": "code",
   "execution_count": 60,
   "id": "89352014-6b48-45d3-8989-661a18b1312f",
   "metadata": {},
   "outputs": [
    {
     "data": {
      "text/plain": [
       "0       72.0\n",
       "1       79.0\n",
       "2       76.0\n",
       "3       77.0\n",
       "4       76.0\n",
       "        ... \n",
       "2128    55.0\n",
       "2129    46.0\n",
       "2130    51.0\n",
       "2131    53.0\n",
       "2132    48.0\n",
       "Name: posttest, Length: 2133, dtype: float64"
      ]
     },
     "execution_count": 60,
     "metadata": {},
     "output_type": "execute_result"
    }
   ],
   "source": [
    "target"
   ]
  },
  {
   "cell_type": "code",
   "execution_count": 61,
   "id": "3c9526cd-d09a-47a2-b0fb-63e1c00ad4b8",
   "metadata": {},
   "outputs": [],
   "source": [
    "from sklearn.model_selection import train_test_split\n",
    "Z=train_test_split(final_df,target,test_size=0.2,random_state=10)"
   ]
  },
  {
   "cell_type": "code",
   "execution_count": 62,
   "id": "70a54a6c-ad02-4b30-8773-74635f0657f8",
   "metadata": {},
   "outputs": [
    {
     "name": "stdout",
     "output_type": "stream",
     "text": [
      "(1706, 127)\n",
      "(427, 127)\n",
      "(1706,)\n",
      "(427,)\n"
     ]
    }
   ],
   "source": [
    "for i in Z:\n",
    "    print(i.shape)"
   ]
  },
  {
   "cell_type": "code",
   "execution_count": 63,
   "id": "664809b6-5ffb-43fc-8ffa-a8f12fce71b1",
   "metadata": {},
   "outputs": [
    {
     "data": {
      "text/html": [
       "<div>\n",
       "<style scoped>\n",
       "    .dataframe tbody tr th:only-of-type {\n",
       "        vertical-align: middle;\n",
       "    }\n",
       "\n",
       "    .dataframe tbody tr th {\n",
       "        vertical-align: top;\n",
       "    }\n",
       "\n",
       "    .dataframe thead th {\n",
       "        text-align: right;\n",
       "    }\n",
       "</style>\n",
       "<table border=\"1\" class=\"dataframe\">\n",
       "  <thead>\n",
       "    <tr style=\"text-align: right;\">\n",
       "      <th></th>\n",
       "      <th>school_CCAAW</th>\n",
       "      <th>school_CIMBB</th>\n",
       "    </tr>\n",
       "  </thead>\n",
       "  <tbody>\n",
       "    <tr>\n",
       "      <th>1026</th>\n",
       "      <td>0</td>\n",
       "      <td>0</td>\n",
       "    </tr>\n",
       "    <tr>\n",
       "      <th>2062</th>\n",
       "      <td>0</td>\n",
       "      <td>0</td>\n",
       "    </tr>\n",
       "    <tr>\n",
       "      <th>1905</th>\n",
       "      <td>0</td>\n",
       "      <td>0</td>\n",
       "    </tr>\n",
       "    <tr>\n",
       "      <th>1085</th>\n",
       "      <td>0</td>\n",
       "      <td>0</td>\n",
       "    </tr>\n",
       "    <tr>\n",
       "      <th>1759</th>\n",
       "      <td>0</td>\n",
       "      <td>0</td>\n",
       "    </tr>\n",
       "    <tr>\n",
       "      <th>...</th>\n",
       "      <td>...</td>\n",
       "      <td>...</td>\n",
       "    </tr>\n",
       "    <tr>\n",
       "      <th>2009</th>\n",
       "      <td>0</td>\n",
       "      <td>0</td>\n",
       "    </tr>\n",
       "    <tr>\n",
       "      <th>1180</th>\n",
       "      <td>0</td>\n",
       "      <td>0</td>\n",
       "    </tr>\n",
       "    <tr>\n",
       "      <th>1344</th>\n",
       "      <td>0</td>\n",
       "      <td>0</td>\n",
       "    </tr>\n",
       "    <tr>\n",
       "      <th>527</th>\n",
       "      <td>0</td>\n",
       "      <td>0</td>\n",
       "    </tr>\n",
       "    <tr>\n",
       "      <th>1289</th>\n",
       "      <td>0</td>\n",
       "      <td>0</td>\n",
       "    </tr>\n",
       "  </tbody>\n",
       "</table>\n",
       "<p>1706 rows × 2 columns</p>\n",
       "</div>"
      ],
      "text/plain": [
       "      school_CCAAW  school_CIMBB\n",
       "1026             0             0\n",
       "2062             0             0\n",
       "1905             0             0\n",
       "1085             0             0\n",
       "1759             0             0\n",
       "...            ...           ...\n",
       "2009             0             0\n",
       "1180             0             0\n",
       "1344             0             0\n",
       "527              0             0\n",
       "1289             0             0\n",
       "\n",
       "[1706 rows x 2 columns]"
      ]
     },
     "execution_count": 63,
     "metadata": {},
     "output_type": "execute_result"
    }
   ],
   "source": [
    "Z[0].iloc[:,0:2]"
   ]
  },
  {
   "cell_type": "code",
   "execution_count": null,
   "id": "4c2935cf-d671-4b80-a949-12127cd6ea53",
   "metadata": {},
   "outputs": [],
   "source": []
  },
  {
   "cell_type": "code",
   "execution_count": 64,
   "id": "6e100fbd-eb9e-4b28-9b3c-d0e47bba7194",
   "metadata": {},
   "outputs": [
    {
     "data": {
      "text/plain": [
       "SVR()"
      ]
     },
     "execution_count": 64,
     "metadata": {},
     "output_type": "execute_result"
    }
   ],
   "source": [
    "from sklearn.svm import SVR\n",
    "sv=SVR()\n",
    "sv.fit(Z[0].iloc[:,0:125],Z[2])"
   ]
  },
  {
   "cell_type": "code",
   "execution_count": 65,
   "id": "38f8e417-cef5-4b2f-bcb4-8fdb83006cca",
   "metadata": {},
   "outputs": [
    {
     "data": {
      "text/plain": [
       "LogisticRegression()"
      ]
     },
     "execution_count": 65,
     "metadata": {},
     "output_type": "execute_result"
    }
   ],
   "source": [
    "from sklearn.linear_model import LogisticRegression\n",
    "log_r=LogisticRegression()\n",
    "log_r.fit(Z[0].iloc[:,0:125],Z[2])"
   ]
  },
  {
   "cell_type": "code",
   "execution_count": 66,
   "id": "220dab45-008c-46ba-b0ec-39b50c8796fc",
   "metadata": {},
   "outputs": [
    {
     "data": {
      "text/plain": [
       "LinearRegression()"
      ]
     },
     "execution_count": 66,
     "metadata": {},
     "output_type": "execute_result"
    }
   ],
   "source": [
    "from sklearn.linear_model import LinearRegression\n",
    "lin_r=LinearRegression()\n",
    "lin_r.fit(Z[0].iloc[:,125:127],Z[2])"
   ]
  },
  {
   "cell_type": "code",
   "execution_count": 67,
   "id": "9ab1d6e1-8eea-49d8-92bf-805d8cebce1d",
   "metadata": {},
   "outputs": [],
   "source": [
    "final_pred=0.5*(lin_r.predict(Z[1].iloc[:,125:127])) + 0.5*(sv.predict(Z[1].iloc[:,0:125]))"
   ]
  },
  {
   "cell_type": "code",
   "execution_count": 68,
   "id": "4dfb42b4-f4dc-4a3c-9cdb-6194391d57f3",
   "metadata": {},
   "outputs": [
    {
     "name": "stdout",
     "output_type": "stream",
     "text": [
      "11.534419480200528\n"
     ]
    }
   ],
   "source": [
    "from sklearn.metrics import mean_squared_error\n",
    "print(mean_squared_error(final_pred,Z[3]))"
   ]
  },
  {
   "cell_type": "code",
   "execution_count": 69,
   "id": "0fc4a9ca-f84d-41ba-9c0e-7eda4f7b5c89",
   "metadata": {},
   "outputs": [
    {
     "data": {
      "text/plain": [
       "LinearRegression()"
      ]
     },
     "execution_count": 69,
     "metadata": {},
     "output_type": "execute_result"
    }
   ],
   "source": [
    "lr=LinearRegression()\n",
    "lr.fit(Z[0],Z[2])"
   ]
  },
  {
   "cell_type": "code",
   "execution_count": 70,
   "id": "a75d70b1-26d7-4261-aaff-c5bbe6817f8c",
   "metadata": {},
   "outputs": [
    {
     "name": "stdout",
     "output_type": "stream",
     "text": [
      "8.133526588212131\n"
     ]
    }
   ],
   "source": [
    "print(mean_squared_error(lr.predict(Z[1]),Z[3]))"
   ]
  },
  {
   "cell_type": "code",
   "execution_count": 71,
   "id": "dde0a8a9-1b39-411a-b740-e510ecf0466a",
   "metadata": {},
   "outputs": [
    {
     "name": "stderr",
     "output_type": "stream",
     "text": [
      "C:\\Users\\rajat\\anaconda3\\lib\\site-packages\\sklearn\\linear_model\\_logistic.py:763: ConvergenceWarning: lbfgs failed to converge (status=1):\n",
      "STOP: TOTAL NO. of ITERATIONS REACHED LIMIT.\n",
      "\n",
      "Increase the number of iterations (max_iter) or scale the data as shown in:\n",
      "    https://scikit-learn.org/stable/modules/preprocessing.html\n",
      "Please also refer to the documentation for alternative solver options:\n",
      "    https://scikit-learn.org/stable/modules/linear_model.html#logistic-regression\n",
      "  n_iter_i = _check_optimize_result(\n"
     ]
    },
    {
     "data": {
      "text/plain": [
       "LogisticRegression(max_iter=1000)"
      ]
     },
     "execution_count": 71,
     "metadata": {},
     "output_type": "execute_result"
    }
   ],
   "source": [
    "l_r=LogisticRegression(max_iter=1000)\n",
    "l_r.fit(Z[0],Z[2])"
   ]
  },
  {
   "cell_type": "code",
   "execution_count": 72,
   "id": "42b7bf71-bd54-4eb1-9d27-8180335fe9e4",
   "metadata": {},
   "outputs": [
    {
     "data": {
      "text/plain": [
       "14.412177985948478"
      ]
     },
     "execution_count": 72,
     "metadata": {},
     "output_type": "execute_result"
    }
   ],
   "source": [
    "mean_squared_error(l_r.predict(Z[1]),Z[3])"
   ]
  },
  {
   "cell_type": "code",
   "execution_count": 77,
   "id": "a1a64426-d0e8-4a0f-9a7e-40076d058166",
   "metadata": {},
   "outputs": [
    {
     "data": {
      "text/plain": [
       "0.9614355084505462"
      ]
     },
     "execution_count": 77,
     "metadata": {},
     "output_type": "execute_result"
    }
   ],
   "source": [
    "lr.score(final_df,target)"
   ]
  },
  {
   "cell_type": "code",
   "execution_count": 78,
   "id": "e629fd22-e560-4840-adae-7492f0e0d6c3",
   "metadata": {},
   "outputs": [
    {
     "data": {
      "text/plain": [
       "array([-4.81577266e+21, -1.69235117e+19, -3.30078344e+20, -6.54371941e+19])"
      ]
     },
     "execution_count": 78,
     "metadata": {},
     "output_type": "execute_result"
    }
   ],
   "source": [
    "from sklearn.model_selection import cross_val_score\n",
    "cross_val_score(lr,X=final_df.values,y=target,cv=4)"
   ]
  },
  {
   "cell_type": "code",
   "execution_count": null,
   "id": "d0b87380-7362-4258-a3bf-8b6df3ecf83c",
   "metadata": {},
   "outputs": [],
   "source": []
  }
 ],
 "metadata": {
  "kernelspec": {
   "display_name": "Python 3",
   "language": "python",
   "name": "python3"
  },
  "language_info": {
   "codemirror_mode": {
    "name": "ipython",
    "version": 3
   },
   "file_extension": ".py",
   "mimetype": "text/x-python",
   "name": "python",
   "nbconvert_exporter": "python",
   "pygments_lexer": "ipython3",
   "version": "3.8.8"
  }
 },
 "nbformat": 4,
 "nbformat_minor": 5
}
